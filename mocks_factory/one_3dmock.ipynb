{
 "cells": [
  {
   "cell_type": "markdown",
   "metadata": {},
   "source": [
    "# 3D log-normal mock "
   ]
  },
  {
   "cell_type": "markdown",
   "metadata": {},
   "source": [
    "Demo of a 3D mock"
   ]
  },
  {
   "cell_type": "code",
   "execution_count": 1,
   "metadata": {},
   "outputs": [],
   "source": [
    "%matplotlib inline\n",
    "import matplotlib.pyplot as plt\n",
    "# plt.style.use('dark_background')\n",
    "plt.rc('font', family='fantasy', size=15)\n",
    "import numpy as np\n",
    "import nbodykit.lab as nb\n",
    "from   glob import glob\n",
    "import json\n",
    "\n",
    "#plt.rc('font', family='serif', size=18)\n",
    "#plt.rc('axes.spines', right=False, top=False)"
   ]
  },
  {
   "cell_type": "code",
   "execution_count": 3,
   "metadata": {},
   "outputs": [
    {
     "data": {
      "text/plain": [
       "'0.3.5'"
      ]
     },
     "execution_count": 3,
     "metadata": {},
     "output_type": "execute_result"
    }
   ],
   "source": [
    "import nbodykit \n",
    "nbodykit.__version__"
   ]
  },
  {
   "cell_type": "code",
   "execution_count": 2,
   "metadata": {},
   "outputs": [
    {
     "name": "stdout",
     "output_type": "stream",
     "text": [
      "Input cosmology  Alpha_inf hyrec file : /Users/rezaie/anaconda3/envs/py3p6/lib/python3.6/site-packages/classylss/data/hyrec/Alpha_inf.dat\n",
      "N_ncdm : 1\n",
      "N_ur : 2.0328\n",
      "Omega_b : 0.0486\n",
      "Omega_cdm : 0.2589\n",
      "Omega_k : 0.0\n",
      "P_k_max_h/Mpc : 10.0\n",
      "R_inf hyrec file : /Users/rezaie/anaconda3/envs/py3p6/lib/python3.6/site-packages/classylss/data/hyrec/R_inf.dat\n",
      "T_cmb : 2.7255\n",
      "extra metric transfer functions : y\n",
      "gauge : synchronous\n",
      "h : 0.6774\n",
      "k_pivot : 0.05\n",
      "ln10^{10}A_s : 3.064\n",
      "m_ncdm : 0.06\n",
      "n_s : 0.9667\n",
      "output : vTk dTk mPk\n",
      "sBBN file : /Users/rezaie/anaconda3/envs/py3p6/lib/python3.6/site-packages/classylss/data/bbn/sBBN.dat\n",
      "tau_reio : 0.066\n",
      "two_photon_tables hyrec file : /Users/rezaie/anaconda3/envs/py3p6/lib/python3.6/site-packages/classylss/data/hyrec/two_photon_tables.dat\n",
      "z_max_pk : 100.0\n"
     ]
    }
   ],
   "source": [
    "# cosmology\n",
    "redshift = 0.85     \n",
    "cosmo    = nb.cosmology.Planck15\n",
    "Plin     = nb.cosmology.LinearPower(cosmo, redshift, transfer='CLASS')\n",
    "print('Input cosmology ', cosmo.parameter_file)\n",
    "# np.savetxt('pk.txt', np.column_stack([k, 1.5**2*Plin(k)]), header='k - P(k)')"
   ]
  },
  {
   "cell_type": "code",
   "execution_count": 3,
   "metadata": {},
   "outputs": [],
   "source": [
    "# to load the FFTPOWER output\n",
    "class loadjson(object):\n",
    "    def __init__(self, file):\n",
    "        with open(file) as jsonfile:\n",
    "            data = json.load(jsonfile)\n",
    "            self.poles = {'k':[], 'power_0':[]}\n",
    "            self.attrs = data['attrs']\n",
    "            \n",
    "            for i in range(len(data['poles']['data']['__data__'])):\n",
    "                self.poles['k'].append(data['poles']['data']['__data__'][i][0])\n",
    "                self.poles['power_0'].append(data['poles']['data']['__data__'][i][1]['__complex__'][0])\n",
    "            for keyi in self.poles.keys():\n",
    "                self.poles[keyi] = np.array(self.poles[keyi])\n",
    "\n",
    "# to load the FFTpower output                \n",
    "from nbodykit.lab import FFTPower          "
   ]
  },
  {
   "cell_type": "code",
   "execution_count": 36,
   "metadata": {},
   "outputs": [
    {
     "data": {
      "text/plain": [
       "['/Volumes/TimeMachine/data/mocks_hj/3dbox_nmesh512_L5274.0_bias1.5_seed42/power_1024v2.json',\n",
       " '/Volumes/TimeMachine/data/mocks_hj/3dbox_nmesh512_L5274.0_bias1.5_seed42/power_256v2.json',\n",
       " '/Volumes/TimeMachine/data/mocks_hj/3dbox_nmesh512_L5274.0_bias1.5_seed42/power_512v2.json']"
      ]
     },
     "execution_count": 36,
     "metadata": {},
     "output_type": "execute_result"
    }
   ],
   "source": [
    "path = glob('/Volumes/TimeMachine/data/mocks_hj/3dbox_nmesh512_L5274.0_bias1.5_seed42/power*v2.json')\n",
    "path"
   ]
  },
  {
   "cell_type": "code",
   "execution_count": 38,
   "metadata": {},
   "outputs": [
    {
     "name": "stdout",
     "output_type": "stream",
     "text": [
      "/Volumes/TimeMachine/data/mocks_hj/3dbox_nmesh512_L5274.0_bias1.5_seed42/power_1024v2.json\n",
      "5137.8097171083755\n",
      "/Volumes/TimeMachine/data/mocks_hj/3dbox_nmesh512_L5274.0_bias1.5_seed42/power_256v2.json\n",
      "5137.8097171083755\n",
      "/Volumes/TimeMachine/data/mocks_hj/3dbox_nmesh512_L5274.0_bias1.5_seed42/power_512v2.json\n",
      "5137.8097171083755\n"
     ]
    },
    {
     "name": "stderr",
     "output_type": "stream",
     "text": [
      "/Users/rezaie/anaconda3/envs/py3p6/lib/python3.6/site-packages/numpy/core/numeric.py:492: ComplexWarning: Casting complex values to real discards the imaginary part\n",
      "  return array(a, dtype, copy=False, order=order)\n"
     ]
    },
    {
     "data": {
      "text/plain": [
       "<matplotlib.legend.Legend at 0x1a1dc06320>"
      ]
     },
     "execution_count": 38,
     "metadata": {},
     "output_type": "execute_result"
    },
    {
     "data": {
      "image/png": "[encoded data removed]",
      "text/plain": [
       "<Figure size 432x288 with 1 Axes>"
      ]
     },
     "metadata": {},
     "output_type": "display_data"
    }
   ],
   "source": [
    "labels = ['1024', '256', '512']\n",
    "plt.figure()\n",
    "k = np.logspace(-3, 0, 512)\n",
    "for i,pathi in enumerate(path):\n",
    "    print(pathi)\n",
    "    #data = loadjson(pathi)\n",
    "    data = FFTPower.load(pathi)\n",
    "    print(data.attrs['shotnoise'])\n",
    "    plt.loglog(data.poles['k'], data.poles['power_0']-data.attrs['shotnoise'],\\\n",
    "               alpha=0.5, ls='-', label='nmesh=%s'%labels[i])\n",
    "plt.loglog(k, 1.5**2*Plin(k), ls='--', color='k', label=r'$b^{2}P_{dm}(k)$')\n",
    "\n",
    "# plt.axis([0.002, 0.2, 1.0e3, 5.0e4])\n",
    "plt.ylabel(r'$P_{0}(k)$  $[(Mpc/h)^{3}]$')\n",
    "plt.xlabel(r'$k[h/Mpc]$')\n",
    "plt.legend(frameon=False)\n",
    "#plt.savefig('pkmocks.pdf', bbox_inches='tight', dpi=300)"
   ]
  }
 ],
 "metadata": {
  "kernelspec": {
   "display_name": "py3p6",
   "language": "python",
   "name": "py3p6"
  },
  "language_info": {
   "codemirror_mode": {
    "name": "ipython",
    "version": 3
   },
   "file_extension": ".py",
   "mimetype": "text/x-python",
   "name": "python",
   "nbconvert_exporter": "python",
   "pygments_lexer": "ipython3",
   "version": "3.6.6"
  }
 },
 "nbformat": 4,
 "nbformat_minor": 2
}
