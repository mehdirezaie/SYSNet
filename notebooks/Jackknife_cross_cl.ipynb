{
 "cells": [
  {
   "cell_type": "markdown",
   "metadata": {},
   "source": [
    "# Jackknife vs. Mode Counting for a Full Sky map"
   ]
  },
  {
   "cell_type": "code",
   "execution_count": null,
   "metadata": {},
   "outputs": [],
   "source": [
    "%matplotlib inline\n",
    "import matplotlib.pyplot as plt\n",
    "import numpy  as np\n",
    "import healpy as hp\n",
    "from time import time\n",
    "from utils import split_jackknife, split_jackknife_new, hpix2radec, clerr_jack"
   ]
  },
  {
   "cell_type": "code",
   "execution_count": null,
   "metadata": {},
   "outputs": [],
   "source": [
    "from utils import binit_jac, binit, moderr"
   ]
  },
  {
   "cell_type": "markdown",
   "metadata": {},
   "source": [
    "# Measure the C_ell\n",
    "The code takes mask and weight arrays, I'll pass ones."
   ]
  },
  {
   "cell_type": "code",
   "execution_count": null,
   "metadata": {},
   "outputs": [],
   "source": [
    "def jkmasks(mask, weight, njack=4):\n",
    "    '''\n",
    "    Function that makes Jackknife masks\n",
    "    \n",
    "    \n",
    "    example\n",
    "    --------\n",
    "    >>> jkmasks_dic = jkmasks(mask_1, weight_1)\n",
    "    >>> for k in jkmasks_dic:\n",
    "    ...     hp.mollview(jkmasks_dic[k], title=k)\n",
    "    \n",
    "    '''\n",
    "    assert mask.size == weight.size\n",
    "    \n",
    "    nside = hp.get_nside(mask)\n",
    "    \n",
    "    # --- make jackknife samples\n",
    "    hpix_jk,_ = split_jackknife_new(np.argwhere(mask).flatten(),\n",
    "                                    weight[mask], \n",
    "                                    njack=njack)\n",
    "    masks_dic = {-1:mask}\n",
    "    for jackid in range(njack):\n",
    "        mask_tmp = mask.copy()\n",
    "        mask_tmp[hpix_jk[jackid]] = False\n",
    "        masks_dic[jackid] = mask_tmp\n",
    "        \n",
    "    return masks_dic\n",
    "\n",
    "\n",
    "class AnaFast:\n",
    "    '''\n",
    "    \n",
    "    examples\n",
    "    --------\n",
    "    # credit: Mehdi Rezaie\n",
    "    >>> #--- create mock C_ell\n",
    "    >>> ell_true = np.arange(1024)\n",
    "    >>> cl_true = 1.e-6*(0.001+ell_true)/(1+ell_true*ell_true)\n",
    "    >>> map1 = hp.synfast(cl_true, nside=256, new=True)\n",
    "\n",
    "    >>> #--- create a mock window, e.g., half the sky\n",
    "    >>> mask_1 = np.ones_like(map1, '?')\n",
    "    >>> weight_1 = np.ones_like(map1)\n",
    "    >>> mask_p5 = mask_1.copy()\n",
    "    >>> mask_p5[mask_1.size//2:] = False\n",
    "\n",
    "    >>> #--- run AnaFast with Jackknife\n",
    "    >>> af = AnaFast()\n",
    "    >>> output = af(map1, weight_1, mask_p5, lmax=512, njack=20)\n",
    "\n",
    "    >>> #--- plot\n",
    "    >>> fig, ax = plt.subplots()\n",
    "    >>> ax.loglog(output['ell'], output['Cell'], \n",
    "    ...           c='crimson', label='Measured')\n",
    "    >>> for cli in af.jkcells:\n",
    "    ...    ax.loglog(af.jkcells[cli], color='grey', zorder=-1, alpha=0.2)\n",
    "\n",
    "    >>> ax.loglog(cl_true, 'k', label='True')\n",
    "    >>> ax.legend(fontsize=12)\n",
    "    >>> ax.grid(True, ls=':', which='both', alpha=0.2)\n",
    "    >>> ax.set(xlabel=r'$\\ell$', ylabel=r'C$_\\ell$', ylim=(1.0e-9, 2.0e-6))\n",
    "    \n",
    "    '''\n",
    "    def __init__(self):          \n",
    "        pass\n",
    "    \n",
    "    def __call__(self, map1, weight1, mask1, \n",
    "                 map2=None, weight2=None, mask2=None, \n",
    "                 lmax=None, njack=0):\n",
    "        \n",
    "        print(f'lmax: {lmax}')\n",
    "        print(f'njack: {njack}')\n",
    "        \n",
    "        if njack == 0:\n",
    "            cl_auto = self.run(map1, weight1, mask1, \n",
    "                                 map2=map2, weight2=weight2, mask2=mask2, \n",
    "                                 lmax=lmax)\n",
    "            \n",
    "            output = {'ell':np.arange(cl_auto.size),\n",
    "                       'Cell':cl_auto,\n",
    "                       'Cell_error':np.nan,\n",
    "                       'njack':njack, \n",
    "                       'lmax':lmax}\n",
    "            \n",
    "        elif njack > 1:            \n",
    "            self.run_w_jack(map1, weight1, mask1, \n",
    "                             map2=map2, weight2=weight2, mask2=mask2, \n",
    "                             lmax=lmax, njack=njack)\n",
    "            \n",
    "            output = {'ell':np.arange(self.jkcells[-1].size),\n",
    "                       'Cell':self.jkcells[-1],\n",
    "                      'Cell_error':self.clstd,\n",
    "                      'njack':njack,\n",
    "                      'lmax':lmax,\n",
    "                      'Celljk':self.jkcells}\n",
    "        else:                 \n",
    "            raise RuntimeError(f'njack: {njack} must be > 1 or == 0')\n",
    "        \n",
    "        return output\n",
    "    \n",
    "    def run_w_jack(self, map1, weight1, mask1, \n",
    "                   map2=None, weight2=None, mask2=None, \n",
    "                   lmax=None, njack=4):\n",
    "        \n",
    "        #print(f'njack: {njack}')\n",
    "        \n",
    "        #--- split the common mask into N Jackknifes        \n",
    "        mask_common = mask1.copy()        \n",
    "        if mask2 is not None:            \n",
    "            mask_common &= mask2   \n",
    "        self.jkmasks_dic = jkmasks(mask_common, weight1, njack=njack)\n",
    "        \n",
    "        #--- compute the mean\n",
    "        self.jkcells = {}\n",
    "        for k in self.jkmasks_dic:\n",
    "            t0 = time()\n",
    "            self.jkcells[k] = self.run(map1, weight1, self.jkmasks_dic[k],\n",
    "                                  map2=map2, weight2=weight2, mask2=self.jkmasks_dic[k],\n",
    "                                  lmax=lmax)\n",
    "            if k==0:print(f'{k}, {time()-t0:.2f} secs')\n",
    "        \n",
    "        #--- compute the dispersion\n",
    "        clvar = np.zeros_like(self.jkcells[-1])\n",
    "        for i in range(njack):\n",
    "            res = (self.jkcells[-1] - self.jkcells[i])\n",
    "            clvar += res*res\n",
    "        clvar *= (njack-1)/njack        \n",
    "        self.clstd = np.sqrt(clvar)\n",
    "        \n",
    "        \n",
    "    def run(self, map1, weight1, mask1, \n",
    "            map2=None, weight2=None, mask2=None, lmax=None):\n",
    "        \n",
    "        mask_common = mask1.copy()\n",
    "\n",
    "        if (map2 is not None) & (weight2 is not None) & (mask2 is not None):\n",
    "            \n",
    "            mask_common &= mask2   \n",
    "            #weight2 /= np.mean(weight2[mask_common])\n",
    "            \n",
    "            hp_map2 = hp.ma(map2 * weight2)\n",
    "            hp_map2.mask = np.logical_not(mask_common)\n",
    "            hp_map2 = hp_map2.filled()\n",
    "\n",
    "        else:\n",
    "            hp_map2 = None\n",
    "        \n",
    "        #weight1 /= np.mean(weight1[mask_common])\n",
    "        \n",
    "        hp_map1 = hp.ma(map1 * weight1)\n",
    "        hp_map1.mask = np.logical_not(mask_common)\n",
    "        hp_map1 = hp_map1.filled()        \n",
    "        normalization = np.mean(mask_common)\n",
    "        \n",
    "#         map_i  = hp.ma(mask_common.astype('f8')) \n",
    "#         map_i.mask = np.logical_not(mask_common) \n",
    "#         clmask = hp.anafast(map_i.filled())\n",
    "#         sf = ((2*np.arange(clmask.size)+1)*clmask).sum()/(4.*np.pi)\n",
    "        \n",
    "        #print(sf, normalization)\n",
    "        return hp.anafast(hp_map1, map2=hp_map2, lmax=lmax)/normalization"
   ]
  },
  {
   "cell_type": "code",
   "execution_count": null,
   "metadata": {},
   "outputs": [],
   "source": [
    "ngal = hp.read_map('/Volumes/TimeMachine/data/DR7/eBOSS.ELG.NGC.DR7.cut.hp256.fits')\n",
    "mask = hp.read_map('/Volumes/TimeMachine/data/DR7/mask.cut.hp.256.fits') > 0\n",
    "frac = hp.read_map('/Volumes/TimeMachine/data/DR7/frac.hp.256.fits')"
   ]
  },
  {
   "cell_type": "code",
   "execution_count": null,
   "metadata": {},
   "outputs": [],
   "source": [
    "from utils import makedelta "
   ]
  },
  {
   "cell_type": "code",
   "execution_count": null,
   "metadata": {},
   "outputs": [],
   "source": [
    "import fitsio as ft"
   ]
  },
  {
   "cell_type": "code",
   "execution_count": null,
   "metadata": {},
   "outputs": [],
   "source": [
    "delta = makedelta(ngal, frac, mask)"
   ]
  },
  {
   "cell_type": "code",
   "execution_count": null,
   "metadata": {},
   "outputs": [],
   "source": [
    "templates = ft.read('/Volumes/TimeMachine/data/DR7/eBOSS.ELG.NGC.DR7.table.fits')\n",
    "sysematics = []\n",
    "for tm in range(18):\n",
    "    print('.', end='')\n",
    "    mapi = np.zeros(12*256*256)\n",
    "    mapi[templates['hpind']] = templates['features'][:, tm]\n",
    "    sysematics.append(makedelta(mapi, frac, mask, is_sys=True))"
   ]
  },
  {
   "cell_type": "code",
   "execution_count": null,
   "metadata": {
    "scrolled": true
   },
   "outputs": [],
   "source": [
    "clgs = []\n",
    "clss = []\n",
    "\n",
    "# auto\n",
    "AFauto = AnaFast()\n",
    "AFcross = AnaFast()\n",
    "\n",
    "clgg = AFauto(delta, frac, mask, njack=20, lmax=512)\n",
    "for i in range(18):\n",
    "    print('.', end='')\n",
    "    clss.append(AFauto(sysematics[i], frac, mask, njack=20, lmax=512))\n",
    "    clgs.append(AFcross(delta, frac, mask, njack=20, lmax=512, \n",
    "                        map2=sysematics[i], weight2=frac, mask2=mask))\n",
    "    \n",
    "    "
   ]
  },
  {
   "cell_type": "code",
   "execution_count": null,
   "metadata": {},
   "outputs": [],
   "source": [
    "np.save('/Volumes/TimeMachine/data/DR7/results_referee/cl_uni_dr7_gg_ss_sg.npy',\n",
    "       [clgg, clgs, clss])"
   ]
  },
  {
   "cell_type": "code",
   "execution_count": null,
   "metadata": {},
   "outputs": [],
   "source": []
  },
  {
   "cell_type": "code",
   "execution_count": null,
   "metadata": {},
   "outputs": [],
   "source": [
    "[clgg, clgs, clss] = np.load('/Volumes/TimeMachine/data/DR7/results_referee/cl_uni_dr7_gg_ss_sg.npy', allow_pickle=True)"
   ]
  },
  {
   "cell_type": "code",
   "execution_count": null,
   "metadata": {},
   "outputs": [],
   "source": [
    "cldr7_org = np.load('/Volumes/TimeMachine/data/DR7/results/clustering/cl_uni.npy', allow_pickle=True).item()\n",
    "cldr7_org.keys()"
   ]
  },
  {
   "cell_type": "code",
   "execution_count": null,
   "metadata": {},
   "outputs": [],
   "source": [
    "plt.subplot(211)\n",
    "plt.loglog(cldr7_org['clerr']['clerr'], 'k', \n",
    "             clgg['Cell_error'], 'r-')\n",
    "# plt.plot([0., 0.0016], [0., 0.0016])\n",
    "\n",
    "plt.subplot(212)\n",
    "plt.loglog(cldr7_org['auto'], 'k', \n",
    "         clgg['Cell'], 'r--')\n",
    "plt.ylim(1.e-6, 1.e-2)"
   ]
  },
  {
   "cell_type": "code",
   "execution_count": null,
   "metadata": {},
   "outputs": [],
   "source": [
    "from utils import binit"
   ]
  },
  {
   "cell_type": "code",
   "execution_count": null,
   "metadata": {},
   "outputs": [],
   "source": [
    "ell = np.arange(513)\n",
    "\n",
    "sig_cross = []\n",
    "\n",
    "for j in range(18):\n",
    "    print(j, end=' ')\n",
    "    \n",
    "    clcross = {}\n",
    "\n",
    "    for k in range(-1, 20):\n",
    "        _,clgs_i = binit(ell, clgs[j]['Celljk'][k])\n",
    "        _, clss_i = binit(ell, clss[j]['Celljk'][k])\n",
    "        clcross[k] =  clgs_i**2 /clss_i \n",
    "\n",
    "\n",
    "    #--- compute the dispersion\n",
    "    clvar = np.zeros(9)\n",
    "\n",
    "    njack = 20\n",
    "    for i in range(njack):\n",
    "        res = (clcross[-1] - clcross[i])\n",
    "        clvar += res*res\n",
    "    clvar *= (njack-1)/njack        \n",
    "    \n",
    "    \n",
    "    sig_cross.append(np.sqrt(clvar))\n",
    "    \n",
    "np.save('/Volumes/TimeMachine/data/DR7/results_referee/cl_uni_dr7_sig_sg2_ss.npy',\n",
    "       sig_cross)    "
   ]
  },
  {
   "cell_type": "code",
   "execution_count": null,
   "metadata": {},
   "outputs": [],
   "source": [
    "ell = np.arange(513)\n",
    "\n",
    "sig_cross = []\n",
    "\n",
    "for j in range(18):\n",
    "    print(j, end=' ')\n",
    "    \n",
    "    clcross = {}\n",
    "\n",
    "    _, clss_i = binit(ell, clss[j]['Celljk'][-1])\n",
    "    \n",
    "    for k in range(-1, 20):\n",
    "        _,clgs_i = binit(ell, clgs[j]['Celljk'][k])\n",
    "        \n",
    "        clcross[k] =  clgs_i\n",
    "\n",
    "\n",
    "    #--- compute the dispersion\n",
    "    clvar = np.zeros(9)\n",
    "    njack = 20\n",
    "    for i in range(njack):\n",
    "        res = (clcross[-1] - clcross[i])\n",
    "        clvar += res*res\n",
    "    clvar *= (njack-1)/njack        \n",
    "    \n",
    "    \n",
    "    sig_cross.append( 2*np.abs(clcross[-1])*np.sqrt(clvar)/clss_i)\n",
    "    \n",
    "np.save('/Volumes/TimeMachine/data/DR7/results_referee/cl_uni_dr7_2sg_sig_sg_ss.npy',\n",
    "       sig_cross)    "
   ]
  },
  {
   "cell_type": "code",
   "execution_count": null,
   "metadata": {},
   "outputs": [],
   "source": []
  },
  {
   "cell_type": "code",
   "execution_count": null,
   "metadata": {},
   "outputs": [],
   "source": [
    "sig_sg2_ss = np.load('/Volumes/TimeMachine/data/DR7/results_referee/cl_uni_dr7_sig_sg2_ss.npy', \n",
    "                       allow_pickle=True)\n",
    "sg_sig_sg_ss = np.load('/Volumes/TimeMachine/data/DR7/results_referee/cl_uni_dr7_2sg_sig_sg_ss.npy', \n",
    "                       allow_pickle=True)"
   ]
  },
  {
   "cell_type": "code",
   "execution_count": null,
   "metadata": {},
   "outputs": [],
   "source": [
    "sig_sg2_ss.shape, sg_sig_sg_ss.shape"
   ]
  },
  {
   "cell_type": "code",
   "execution_count": null,
   "metadata": {},
   "outputs": [],
   "source": [
    "lb, clbe = binit_jac(cldr7_org['clerr']['cljks'])"
   ]
  },
  {
   "cell_type": "code",
   "execution_count": null,
   "metadata": {},
   "outputs": [],
   "source": [
    "_, cl_sgb = binit(ell, cldr7_org['cross'][0, :])\n",
    "_, clssb = binit(ell, clss[0]['Cell'])"
   ]
  },
  {
   "cell_type": "code",
   "execution_count": null,
   "metadata": {},
   "outputs": [],
   "source": [
    "plt.loglog(lb, sig_sg2_ss[0, :], 'k-',\n",
    "           lb, sg_sig_sg_ss[0, :], 'k--',\n",
    "           lb, clbe,'k:',\n",
    "           lb, cl_sgb**2/clssb, 'r-')\n",
    "plt.legend([r'$\\sigma(C_{s,g}^{2}/C_{s,s})$', \n",
    "            r'$2|C_{s,g}|\\sigma(C_{s,g})/C_{s,s}$',\n",
    "            r'$\\sigma(C_{g,g})$',\n",
    "           r'$C_{s,g}^{2}/C_{s,s}$'], fontsize=13, \n",
    "           bbox_to_anchor=(0.8, 1.2))\n",
    "plt.xlim((0.8, 700))"
   ]
  },
  {
   "cell_type": "code",
   "execution_count": null,
   "metadata": {},
   "outputs": [],
   "source": [
    "plt.loglog(sig_cross[0], 'k-',\n",
    "           clgg['Cell_error'], 'r--')"
   ]
  },
  {
   "cell_type": "code",
   "execution_count": null,
   "metadata": {},
   "outputs": [],
   "source": [
    "    l = np.arange(d['cross'][i, :].size)\n",
    "    #cl= d['cross'][i, :]**2 / clsys['cross'][i, :]\n",
    "    #lb, clb = binit(l, cl)\n",
    "    cl_sg = binit(l, d['cross'][i, :])[1]\n",
    "    lb, cl_ss = binit(l, clsys['cross'][i, :])\n",
    "\n",
    "    clb = cl_sg**2 / cl_ss"
   ]
  },
  {
   "cell_type": "code",
   "execution_count": null,
   "metadata": {},
   "outputs": [],
   "source": [
    "plt.loglog(cldr7_org['cross'][0, :]**2/clss[0]['Cell'])"
   ]
  },
  {
   "cell_type": "code",
   "execution_count": null,
   "metadata": {},
   "outputs": [],
   "source": []
  }
 ],
 "metadata": {
  "kernelspec": {
   "display_name": "py3p6",
   "language": "python",
   "name": "py3p6"
  },
  "language_info": {
   "codemirror_mode": {
    "name": "ipython",
    "version": 3
   },
   "file_extension": ".py",
   "mimetype": "text/x-python",
   "name": "python",
   "nbconvert_exporter": "python",
   "pygments_lexer": "ipython3",
   "version": "3.6.9"
  }
 },
 "nbformat": 4,
 "nbformat_minor": 2
}
