{
 "cells": [
  {
   "cell_type": "markdown",
   "metadata": {},
   "source": [
    "Test residuals in the data with additional masking of DEPTH"
   ]
  },
  {
   "cell_type": "code",
   "execution_count": null,
   "metadata": {},
   "outputs": [],
   "source": [
    "%matplotlib inline\n",
    "import matplotlib.pyplot as plt\n",
    "import numpy as np\n",
    "import healpy as hp\n",
    "import fitsio as ft\n",
    "import pandas as pd\n",
    "from utils import hpix2radec\n",
    "from nnbar import NNBAR"
   ]
  },
  {
   "cell_type": "code",
   "execution_count": null,
   "metadata": {},
   "outputs": [],
   "source": [
    "df = pd.read_hdf('/Volumes/TimeMachine/data/DR7/DR7meta.h5')\n",
    "depth_g = df['depth_g_total'].values\n",
    "\n",
    "galmap = hp.read_map('/Volumes/TimeMachine/data/DR7/eBOSS.ELG.NGC.DR7.cut.hp256.fits', verbose=False)\n",
    "fracmap = hp.read_map('/Volumes/TimeMachine/data/DR7/frac.hp.256.fits', verbose=False)\n",
    "mask = hp.read_map('/Volumes/TimeMachine/data/DR7/mask_data_mock.cut.hp.256.fits', verbose=False) > 0\n",
    "wnn = hp.read_map('/Volumes/TimeMachine/data/DR7/results/regression/nn_p/nn-weights.hp256.fits', verbose=False)\n",
    "wnn2 = hp.read_map('/Volumes/TimeMachine/data/DR7/results_referee/nn_p/nn-weights.hp256.fits', verbose=False)"
   ]
  },
  {
   "cell_type": "code",
   "execution_count": null,
   "metadata": {},
   "outputs": [],
   "source": [
    "chi2 = lambda y, ye:(((y-1)/ye)**2).sum()\n",
    "\n",
    "def run(maski, wnni=None):    \n",
    "    \n",
    "    # get mean density\n",
    "    ndepth = NNBAR(galmap, fracmap, maski, depth_g, selection=wnni)\n",
    "    ndepth.run()\n",
    "\n",
    "    \n",
    "    y = ndepth.output['nnbar']\n",
    "    x = (ndepth.output['bin_edges'][:-1])#+ndepth.output['bin_edges'][1:])\n",
    "    ye = ndepth.output['nnbar_err']\n",
    "\n",
    "    nan = np.isnan(y) | np.isnan(ye)\n",
    "    if nan.sum()!=0:\n",
    "        print(y, nan.sum())\n",
    "        y = y[~nan]\n",
    "        x = x[~nan]\n",
    "        ye = ye[~nan]\n",
    "\n",
    "\n",
    "    fig, ax1 = plt.subplots()\n",
    "\n",
    "    ax2 = ax1.twinx()\n",
    "    ax1.errorbar(x, y, yerr=ye, marker='o', color='b', ls='none')\n",
    "    for xmin in x[:-3]:\n",
    "        chi2v = chi2(y[x>xmin], ye[x>xmin])\n",
    "        print(xmin, chi2v)\n",
    "        ax2.scatter(xmin, chi2v, \n",
    "                    color='darkorange', marker='s', facecolors='none')\n",
    "\n",
    "    ax1.set_ylim(0.8, 1.2)\n",
    "    ax1.axhline(1, ls=':', color='blue')\n",
    "    #ax2.axhline(50, ls='--', color='orange')\n",
    "    #ax2.text(24.6, 52, '95% Null mocks', color='orange')\n",
    "\n",
    "    ax1.set_xlabel('Depth_g')\n",
    "    ax1.set_ylabel('N/Nbar', color='b')\n",
    "    ax2.set_ylim(-5, 85)\n",
    "    ax2.set_ylabel('Chi2(>depth_g)', color='darkorange', fontweight='bold')"
   ]
  },
  {
   "cell_type": "code",
   "execution_count": null,
   "metadata": {},
   "outputs": [],
   "source": [
    "run(mask, None)"
   ]
  },
  {
   "cell_type": "code",
   "execution_count": null,
   "metadata": {},
   "outputs": [],
   "source": [
    "run(mask, wnn)"
   ]
  },
  {
   "cell_type": "code",
   "execution_count": null,
   "metadata": {},
   "outputs": [],
   "source": [
    "run(mask, wnn2)"
   ]
  },
  {
   "cell_type": "code",
   "execution_count": null,
   "metadata": {},
   "outputs": [],
   "source": [
    "run(mask & (depth_g >= 23.95), wnn)"
   ]
  },
  {
   "cell_type": "code",
   "execution_count": null,
   "metadata": {},
   "outputs": [],
   "source": [
    "1- (depth_g[mask] >= 23.95).mean()"
   ]
  },
  {
   "cell_type": "code",
   "execution_count": null,
   "metadata": {},
   "outputs": [],
   "source": [
    "(depth_g[mask] < 23.9).mean()"
   ]
  },
  {
   "cell_type": "code",
   "execution_count": null,
   "metadata": {},
   "outputs": [],
   "source": [
    "ra, dec = hpix2radec(256, np.argwhere(mask).flatten())"
   ]
  },
  {
   "cell_type": "code",
   "execution_count": null,
   "metadata": {},
   "outputs": [],
   "source": [
    "depth_g[mask].max()"
   ]
  },
  {
   "cell_type": "code",
   "execution_count": null,
   "metadata": {},
   "outputs": [],
   "source": [
    "plt.figure(figsize=(12, 4))\n",
    "plt.hist(depth_g[mask], \n",
    "         bins=65, range=(22.7, 44.6),\n",
    "         histtype='step')\n",
    "plt.yscale('log')\n",
    "plt.xticks(np.linspace(22, 45, 16))\n",
    "plt.xlabel('depth g')"
   ]
  },
  {
   "cell_type": "code",
   "execution_count": null,
   "metadata": {},
   "outputs": [],
   "source": [
    "cmap = plt.cm.get_cmap('jet_r', 10)\n",
    "plt.scatter(ra, dec, 1, c=depth_g[mask], marker='H',  \n",
    "            cmap=cmap, vmin=24, vmax=26)\n",
    "plt.colorbar()"
   ]
  }
 ],
 "metadata": {
  "kernelspec": {
   "display_name": "py3p6",
   "language": "python",
   "name": "py3p6"
  },
  "language_info": {
   "codemirror_mode": {
    "name": "ipython",
    "version": 3
   },
   "file_extension": ".py",
   "mimetype": "text/x-python",
   "name": "python",
   "nbconvert_exporter": "python",
   "pygments_lexer": "ipython3",
   "version": "3.6.9"
  }
 },
 "nbformat": 4,
 "nbformat_minor": 4
}
