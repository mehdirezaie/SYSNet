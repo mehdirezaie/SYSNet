{
 "cells": [
  {
   "cell_type": "markdown",
   "metadata": {},
   "source": [
    "This notebook creates a log-normal density field and applies DESI mask"
   ]
  },
  {
   "cell_type": "code",
   "execution_count": null,
   "metadata": {},
   "outputs": [],
   "source": [
    "%matplotlib inline"
   ]
  },
  {
   "cell_type": "code",
   "execution_count": null,
   "metadata": {},
   "outputs": [],
   "source": [
    "#\n",
    "import nbodykit.lab as nb\n",
    "from nbodykit.cosmology import Planck15\n",
    "from scipy.interpolate import UnivariateSpline\n",
    "import healpy as hp"
   ]
  },
  {
   "cell_type": "code",
   "execution_count": null,
   "metadata": {},
   "outputs": [],
   "source": [
    "import numpy as np"
   ]
  },
  {
   "cell_type": "code",
   "execution_count": null,
   "metadata": {},
   "outputs": [],
   "source": [
    "#\n",
    "def pos2radec(pos, obs):\n",
    "    x, y, z= (pos - obs).T\n",
    "    r = (x**2+y**2+z**2) ** 0.5\n",
    "    dec = np.arcsin(z / r)\n",
    "    ra = np.arctan2(y, x)\n",
    "    return ra, dec, r \n",
    "\n",
    "def r2z(cosmology, r1):\n",
    "    zgrid = np.linspace(0, 9.0, 10000)\n",
    "    rgrid = cosmology.comoving_distance(zgrid)\n",
    "    spl = UnivariateSpline(rgrid, zgrid)\n",
    "    return spl(r1)\n",
    "\n",
    "class DESIFootprint:\n",
    "    def __init__(self, desi_map):\n",
    "        map = hp.read_map(desi_map)\n",
    "        self.map = map\n",
    "        \n",
    "    def f(self, ra, dec):\n",
    "        pix = hp.ang2pix(nside=32, phi=ra, theta=np.pi / 2 - dec)\n",
    "        return self.map[pix]"
   ]
  },
  {
   "cell_type": "code",
   "execution_count": null,
   "metadata": {},
   "outputs": [],
   "source": [
    "ftp = DESIFootprint('/project/projectdirs/desi/mocks/GaussianRandomField/v0.0.4/desi-map.fits')"
   ]
  },
  {
   "cell_type": "code",
   "execution_count": null,
   "metadata": {},
   "outputs": [],
   "source": [
    "redshift = 0.0\n",
    "cosmo = nb.cosmology.Planck15\n",
    "Plin = nb.cosmology.LinearPower(cosmo, redshift, transfer='CLASS')\n",
    "b1 = 2.0\n",
    "cat = nb.LogNormalCatalog(Plin=Plin, nbar=3e-2, BoxSize=1380., Nmesh=256, bias=b1, seed=42)"
   ]
  },
  {
   "cell_type": "code",
   "execution_count": null,
   "metadata": {},
   "outputs": [],
   "source": [
    "class Mock:\n",
    "    def __init__(self, pos, cosmo, ftp, obs):\n",
    "        ra, dec, r = pos2radec(pos, obs=obs)\n",
    "        z = r2z(cosmo, r)\n",
    "        f = ftp.f(ra, dec)\n",
    "        self.ra = ra\n",
    "        self.dec = dec\n",
    "        self.z = z\n",
    "        self.f = f\n",
    "        self.r = r"
   ]
  },
  {
   "cell_type": "code",
   "execution_count": null,
   "metadata": {},
   "outputs": [],
   "source": [
    "posrandom = np.random.uniform(size=(10*cat['Position'].shape[0],3))*1380\n",
    "data = Mock(cat['Position'], Planck15, ftp, obs=[690, 690, 690])\n",
    "random = Mock(posrandom, Planck15, ftp, obs=[690, 690, 690])"
   ]
  },
  {
   "cell_type": "code",
   "execution_count": null,
   "metadata": {},
   "outputs": [],
   "source": [
    "import matplotlib.pyplot as plt"
   ]
  },
  {
   "cell_type": "code",
   "execution_count": null,
   "metadata": {},
   "outputs": [],
   "source": [
    "import sys\n",
    "sys.path.append('/global/homes/m/mehdi/github/DESILSS') # pretty old, huh?\n",
    "from syslss import hpixsum"
   ]
  },
  {
   "cell_type": "code",
   "execution_count": null,
   "metadata": {},
   "outputs": [],
   "source": [
    "plt.hist(data.z)"
   ]
  },
  {
   "cell_type": "code",
   "execution_count": null,
   "metadata": {},
   "outputs": [],
   "source": [
    "m = (data.r < 690) & (data.f > 0.2)\n",
    "n = (random.r < 690) & (random.f > 0.2)"
   ]
  },
  {
   "cell_type": "code",
   "execution_count": null,
   "metadata": {},
   "outputs": [],
   "source": [
    "datam = hpixsum(256, np.rad2deg(data.ra[m]), np.rad2deg(data.dec[m]))\n",
    "randomm = hpixsum(256, np.rad2deg(random.ra[n]), np.rad2deg(random.dec[n]))"
   ]
  },
  {
   "cell_type": "code",
   "execution_count": null,
   "metadata": {},
   "outputs": [],
   "source": [
    "delta  = np.zeros(datam.shape)\n",
    "mask   = randomm != 0.0\n",
    "sf = datam[mask].sum()/randomm[mask].sum()\n",
    "delta[mask] = datam[mask]/(randomm[mask]*sf) - 1.0"
   ]
  },
  {
   "cell_type": "code",
   "execution_count": null,
   "metadata": {},
   "outputs": [],
   "source": [
    "plt.figure(figsize=(20,25))\n",
    "plt.subplots_adjust(wspace=0.0, hspace=0.1)\n",
    "for i,(title, map_i) in enumerate([('data',datam), ('random',randomm), ('delta', delta)]):\n",
    "    map_m = hp.ma(map_i.astype('f8'))\n",
    "    map_m.mask = np.logical_not(mask)\n",
    "    plt.subplot(421+i)\n",
    "    hp.mollview(map_m.filled(), title=title, hold=True, coord=['C','G'])"
   ]
  },
  {
   "cell_type": "code",
   "execution_count": null,
   "metadata": {},
   "outputs": [],
   "source": [
    "plt.xlabel(r'$\\delta$')\n",
    "_=plt.hist(delta[mask], bins=80, range=(-1, 2.2), histtype='step')"
   ]
  },
  {
   "cell_type": "code",
   "execution_count": null,
   "metadata": {},
   "outputs": [],
   "source": [
    "from syslss import AngularClustering2D"
   ]
  },
  {
   "cell_type": "code",
   "execution_count": null,
   "metadata": {},
   "outputs": [],
   "source": [
    "randomm.max()"
   ]
  },
  {
   "cell_type": "code",
   "execution_count": null,
   "metadata": {},
   "outputs": [],
   "source": [
    "mock1 = AngularClustering2D(datam.astype('f8'), randomm.astype('f8')/89, hpmap=True, nside=256)"
   ]
  },
  {
   "cell_type": "code",
   "execution_count": null,
   "metadata": {},
   "outputs": [],
   "source": [
    "xicl = mock1.run()"
   ]
  },
  {
   "cell_type": "code",
   "execution_count": null,
   "metadata": {},
   "outputs": [],
   "source": [
    "xicl.keys()"
   ]
  },
  {
   "cell_type": "code",
   "execution_count": null,
   "metadata": {},
   "outputs": [],
   "source": [
    "xicl['attr']"
   ]
  },
  {
   "cell_type": "code",
   "execution_count": null,
   "metadata": {},
   "outputs": [],
   "source": [
    "xi = np.copy(xicl['xi'])\n",
    "cl = np.copy(xicl['cl'])\n",
    "plt.rc('font', size=18)\n",
    "plt.rc('axes.spines', right=False, top=False)\n",
    "plt.figure(figsize=(16,10))\n",
    "plt.subplot(221)\n",
    "plt.plot(xi[0], xi[1])\n",
    "plt.xlim(0.1, 6)\n",
    "plt.xscale('log')\n",
    "plt.ylabel(r'$\\omega(\\theta)$')\n",
    "plt.xlabel(r'$\\theta$[deg]')\n",
    "plt.subplot(222)\n",
    "plt.scatter(cl[0], cl[1], 10.0, marker='.', color='b')\n",
    "plt.ylim([-1.e-5, 0.0006])\n",
    "plt.xscale('log')\n",
    "plt.ylabel(r'C$_{l}$')\n",
    "plt.xlim(xmin=1)\n",
    "# plt.yscale('log')"
   ]
  },
  {
   "cell_type": "code",
   "execution_count": null,
   "metadata": {},
   "outputs": [],
   "source": []
  }
 ],
 "metadata": {
  "kernelspec": {
   "display_name": "py3p6",
   "language": "python",
   "name": "py3p6"
  },
  "language_info": {
   "codemirror_mode": {
    "name": "ipython",
    "version": 3
   },
   "file_extension": ".py",
   "mimetype": "text/x-python",
   "name": "python",
   "nbconvert_exporter": "python",
   "pygments_lexer": "ipython3",
   "version": "3.6.9"
  }
 },
 "nbformat": 4,
 "nbformat_minor": 2
}
