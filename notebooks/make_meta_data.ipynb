{
 "cells": [
  {
   "cell_type": "markdown",
   "metadata": {},
   "source": [
    "# Meta Data Preparation\n",
    "In this notebook, we read in the imaging maps, galaxy catalog, and the bright stars masks. Make healix masks, etc."
   ]
  },
  {
   "cell_type": "markdown",
   "metadata": {},
   "source": [
    "#### Read required modules"
   ]
  },
  {
   "cell_type": "code",
   "execution_count": null,
   "metadata": {},
   "outputs": [],
   "source": [
    "%matplotlib inline\n",
    "import matplotlib.pyplot as plt\n",
    "import fitsio as ft\n",
    "import pandas  as pd\n",
    "import numpy   as np\n",
    "import healpy  as hp\n",
    "import seaborn as sns\n",
    "import pymangle\n",
    "from   glob import glob\n",
    "import sys\n",
    "from   utils import hpixsum, hpix2radec"
   ]
  },
  {
   "cell_type": "markdown",
   "metadata": {},
   "source": [
    "## Cut objects based on Bright stars masks\n",
    "#### Q1: Bright stars mask?"
   ]
  },
  {
   "cell_type": "code",
   "execution_count": null,
   "metadata": {},
   "outputs": [],
   "source": [
    "sdss  = pymangle.Mangle('/Volumes/TimeMachine/data/bright_object_mask_rykoff_pix.ply')\n",
    "tych1 = pymangle.Mangle('/Volumes/TimeMachine/data/tycho2mask-0Vmag10.pol')\n",
    "tych2 = pymangle.Mangle('/Volumes/TimeMachine/data/tycho2mask-10Vmag11.pol')\n",
    "tych3 = pymangle.Mangle('/Volumes/TimeMachine/data/tycho2mask-11Vmag115.pol')\n",
    "\n",
    "ra,dec = hpix2radec(256, np.arange(12*256*256))\n",
    "msdss = sdss.contains(ra,  dec)\n",
    "mt1   = tych1.contains(ra, dec)\n",
    "mt2   = tych2.contains(ra, dec)\n",
    "mt3   = tych3.contains(ra, dec)"
   ]
  },
  {
   "cell_type": "code",
   "execution_count": null,
   "metadata": {},
   "outputs": [],
   "source": [
    "mall = msdss | mt1 | mt2 | mt3\n",
    "plt.scatter(ra[mall], dec[mall], 1.0, color='k', marker='.', alpha=0.2)\n",
    "plt.scatter(ra[msdss], dec[msdss], 1.0, color='b', marker='.')"
   ]
  },
  {
   "cell_type": "code",
   "execution_count": null,
   "metadata": {},
   "outputs": [],
   "source": [
    "ls /Volumes/TimeMachine/data/DR7/"
   ]
  },
  {
   "cell_type": "code",
   "execution_count": null,
   "metadata": {},
   "outputs": [],
   "source": [
    "def apply_cut(cat_in, cat_out, cat_hp):\n",
    "    data = ft.read(cat_in, lower=True)\n",
    "    n = data.size\n",
    "    print('original cat. size,', data.size)\n",
    "    # 3760648\n",
    "    # sdss = pymangle.Mangle('/Volumes/TimeMachine/data/bright_object_mask_rykoff_pix.ply')\n",
    "    tych1= pymangle.Mangle('/Volumes/TimeMachine/data/tycho2mask-0Vmag10.pol')\n",
    "    tych2= pymangle.Mangle('/Volumes/TimeMachine/data/tycho2mask-10Vmag11.pol')\n",
    "    tych3= pymangle.Mangle('/Volumes/TimeMachine/data/tycho2mask-11Vmag115.pol')\n",
    "    mask = ~data['brightstarinblob']\n",
    "    # mask &= (data['anymask_g'] == 0) \n",
    "    # mask &= (data['anymask_r'] == 0) \n",
    "    # mask &= (data['anymask_z'] == 0) \n",
    "    data1 = data[mask]\n",
    "    #print('data size after anymask & brightstarinblob cuts {:.4f} %'.format(data1.size/float(n)))\n",
    "    print('data size after brightstarinblob cuts {:.4f} %'.format(data1.size/float(n)))\n",
    "    mask_stars = np.zeros(data1.size, '?')\n",
    "    for i,smask in enumerate([tych1, tych2, tych3]): #sdss, \n",
    "        mask_stars |= smask.contains(data1['ra'], data1['dec'])\n",
    "        print(i)\n",
    "    print('# of removed sources due to bright stars {}'.format(mask_stars.sum()))\n",
    "    data2 = data1[~mask_stars]\n",
    "    ft.write(cat_out, data2, clobber=True)\n",
    "    #\n",
    "    # pixelate\n",
    "    hpm = hpixsum(256, data2['ra'], data2['dec'])\n",
    "    hp.write_map(cat_hp, hpm, fits_IDL=False, overwrite=True)\n",
    "    \n",
    "\n",
    "apply_cut('/Volumes/TimeMachine/data/DR7/eBOSS.ELG.NGC.DR7.fits',\n",
    "          '/Volumes/TimeMachine/data/DR7/eBOSS.ELG.NGC.DR7.cut.fits',\n",
    "          '/Volumes/TimeMachine/data/DR7/eBOSS.ELG.NGC.DR7.cut.hp256.fits')"
   ]
  },
  {
   "cell_type": "code",
   "execution_count": null,
   "metadata": {},
   "outputs": [],
   "source": [
    "ls /Volumes/TimeMachine/data/DR7/"
   ]
  },
  {
   "cell_type": "markdown",
   "metadata": {},
   "source": [
    "## Combine the galaxy density and imaging maps "
   ]
  },
  {
   "cell_type": "code",
   "execution_count": null,
   "metadata": {},
   "outputs": [],
   "source": [
    "def G_to_C(mapi, res_in=1024, res_out=256):\n",
    "    thph = hp.pix2ang(res_out, np.arange(12*res_out*res_out))\n",
    "    r = hp.Rotator(coord=['C', 'G'])\n",
    "    thphg = r(thph[0], thph[1])\n",
    "    hpix  = hp.ang2pix(res_in, thphg[0], thphg[1])\n",
    "    return mapi[hpix]\n",
    "\n",
    "def extract_keys(mapi):\n",
    "    band = mapi.split('/')[-1].split('_')[3]\n",
    "    sysn = mapi.split('/')[-1].split('_')[6]\n",
    "    oper = mapi.split('/')[-1].split('_')[-1].split('.')[0]\n",
    "    return '_'.join((sysn, band, oper))\n",
    "\n",
    "def IvarToDepth(ivar):\n",
    "    \"\"\"\n",
    "        function to change IVAR to DEPTH\n",
    "    \"\"\"\n",
    "    depth = nanomaggiesToMag(5./np.sqrt(ivar))\n",
    "    return depth\n",
    "\n",
    "def nanomaggiesToMag(nm):\n",
    "    return -2.5 * (np.log10(nm) - 9.)\n",
    "\n",
    "def maskmap(filename, nside=256):    \n",
    "    data   = ft.read(filename, lower=True)\n",
    "    if 'ivar' in filename:\n",
    "        print('change ivar to depth ...')\n",
    "        signal = IvarToDepth(data['signal'])\n",
    "    elif 'fwhm' in filename:\n",
    "        print('change fwhm to arcsec ...')\n",
    "        signal = data['signal']*0.262\n",
    "    else:\n",
    "        signal = data['signal']\n",
    "    #\n",
    "    output = np.empty(12*nside*nside)\n",
    "    output.fill(np.nan)\n",
    "    output[data['pixel']] = signal\n",
    "    return output\n",
    "\n",
    "def combine_maps(maps, cat_hp):\n",
    "    dr7meta = {}\n",
    "    for mapi in maps:    \n",
    "        namei  = extract_keys(mapi)    \n",
    "        print('working on ... %s'%mapi.split('/')[-1])\n",
    "        if 'ivar' in namei:namei = namei.replace('ivar', 'depth')\n",
    "        dr7meta[namei] = maskmap(mapi)\n",
    "    gaia = ft.read('/Volumes/TimeMachine/data/gaia/Gaia.dr2.bGT10.12g17.hp256.fits', lower=True)\n",
    "    ebv  = hp.read_map('/Volumes/TimeMachine/data/healSFD_256_fullsky.fits', verbose=False)\n",
    "    dr7meta['nstar'] = gaia['hpstardens'].astype('f8')\n",
    "    dr7meta['ebv']   = ebv\n",
    "\n",
    "    # read Lenz et. al. map\n",
    "    # ebvhd   = ft.read('/Volumes/TimeMachine/data/ebv_lhd.hpx.fits', lower=True)['ebv'].astype('f8')\n",
    "    # ebvhd_c = G_to_C(ebvhd)\n",
    "    # nan     = np.isnan(ebvhd_c)\n",
    "    # ebvhd_m = ebvhd_c.copy()\n",
    "    # ebvhd_c[nan] = ebv[nan]-.5\n",
    "\n",
    "    # H II map\n",
    "    hii = ft.FITS('/Volumes/TimeMachine/data/NHI_HPX.fits', lower=True)\n",
    "    Hii = hii[1].read()\n",
    "    neg_mask = (Hii['nhi']<=0.0)\n",
    "    Hiic = G_to_C(Hii['nhi'])\n",
    "    Hineg = np.argwhere(Hiic<=0.0).flatten()\n",
    "    neighbors = hp.get_all_neighbours(256, Hineg)\n",
    "    Hiic[Hineg] = np.mean(Hiic[neighbors], axis=0) # fill in negative pixels\n",
    "    #\n",
    "    #dr7meta['ebv_lenz']      = ebvhd_c\n",
    "    #dr7meta['ebv_lenz_org']  = ebvhd_m\n",
    "    #dr7meta['debv_lenz_sfd'] = ebvhd_c-ebv\n",
    "    dr7meta['logHI'] = np.log(Hiic)\n",
    "    DR7meta = pd.DataFrame(dr7meta)\n",
    "    DR7meta['count_min'] = DR7meta[['_'.join(('count',b, 'fracdet')) for b in 'rgz']].min(axis=1) # add min of counts\n",
    "    #\n",
    "    # ngal\n",
    "    hpgal    = hp.read_map(cat_hp, verbose=False)\n",
    "    DR7meta['ngal'] = hpgal\n",
    "    #\n",
    "    # mask\n",
    "    nanids = np.unique(np.where(DR7meta.isna())[0])\n",
    "    nonan  = np.ones(12*256*256, '?')\n",
    "    nonan[nanids] = False\n",
    "    mask   = (DR7meta['depth_g_total'] >= 22.0) & (DR7meta['depth_z_total']>= 20.5)\\\n",
    "            &(DR7meta['depth_r_total'] >= 21.4) & (DR7meta['count_min']>= 0.2) & nonan\n",
    "    DR7meta['mask'] = mask\n",
    "    if len(np.where(DR7meta[DR7meta['mask']].isna())[0]) != 0:print('There is NaNs')\n",
    "    avg = DR7meta['ngal'].sum()/DR7meta['count_min'].sum()\n",
    "    # replace inf with nan\n",
    "    # replace inf with nan\n",
    "    DR7meta.replace([np.inf, -np.inf], np.nan, inplace=True)\n",
    "    return DR7meta"
   ]
  },
  {
   "cell_type": "code",
   "execution_count": null,
   "metadata": {},
   "outputs": [],
   "source": [
    "maps = glob('/Volumes/TimeMachine/data/DR7/sysmaps/DECaLS_DR7/nside256_oversamp4/DECaLS_DR7_band_*')\n",
    "maps[0], len(maps)"
   ]
  },
  {
   "cell_type": "code",
   "execution_count": null,
   "metadata": {
    "scrolled": false
   },
   "outputs": [],
   "source": [
    "DR7meta = combine_maps(maps, '/Volumes/TimeMachine/data/DR7/eBOSS.ELG.NGC.DR7.cut.hp256.fits')"
   ]
  },
  {
   "cell_type": "code",
   "execution_count": null,
   "metadata": {},
   "outputs": [],
   "source": [
    "DR7meta.to_hdf('/Volumes/TimeMachine/data/DR7/DR7meta.h5', 'DR7meta', mode='w', format='fixed')"
   ]
  },
  {
   "cell_type": "code",
   "execution_count": null,
   "metadata": {
    "scrolled": false
   },
   "outputs": [],
   "source": [
    "fig, ax = plt.subplots(nrows=10, ncols=3, figsize=(15, 32))\n",
    "ax=ax.flatten()\n",
    "for i,name in enumerate(DR7meta.columns):\n",
    "    plt.sca(ax[i])\n",
    "    hp.mollview(DR7meta[name], hold=True, title=name)"
   ]
  },
  {
   "cell_type": "markdown",
   "metadata": {},
   "source": [
    "## Read the metadata and write out as a FITS table"
   ]
  },
  {
   "cell_type": "code",
   "execution_count": null,
   "metadata": {},
   "outputs": [],
   "source": [
    "def hd5_2_fits(metaname, fitname, hpmask, hpfrac, cols):    \n",
    "    metadata = pd.read_hdf(metaname)\n",
    "    features = metadata[cols][metadata['mask']].values    \n",
    "    hpind    = np.argwhere(metadata['mask']).flatten()\n",
    "    nbar     = metadata['ngal'][metadata['mask']].sum() / metadata['count_min'][metadata['mask']].sum()\n",
    "    label    = (metadata['ngal'][metadata['mask']] / metadata['count_min'][metadata['mask']])/nbar\n",
    "    fracgood = metadata['count_min'][metadata['mask']]  \n",
    "    \n",
    "    # for n in metadata.columns:\n",
    "    #     print('%20s : %d'%(n, np.isnan(metadata[metadata['mask']][n]).sum()))\n",
    "    outdata = np.zeros(features.shape[0], \n",
    "                       dtype=[('label', 'f8'),\n",
    "                              ('hpind','i8'), \n",
    "                              ('features',('f8', features.shape[1])),\n",
    "                              ('fracgood','f8')])\n",
    "    outdata['label']    = label\n",
    "    outdata['hpind']    = hpind\n",
    "    outdata['features'] = features\n",
    "    outdata['fracgood'] = fracgood\n",
    "    #\n",
    "    #\n",
    "    ft.write(fitname, outdata, clobber=True)\n",
    "    print('Average N : %.8f'%nbar)\n",
    "    #\n",
    "    # \n",
    "    mask = np.zeros(12*256*256, '?')\n",
    "    mask[hpind] = True\n",
    "    hp.write_map(hpmask, mask, overwrite=True, fits_IDL=False)\n",
    "    #\n",
    "    #\n",
    "    frac = np.zeros(12*256*256)\n",
    "    frac[hpind] = fracgood\n",
    "    hp.write_map(hpfrac, frac, overwrite=True, fits_IDL=False)"
   ]
  },
  {
   "cell_type": "code",
   "execution_count": null,
   "metadata": {},
   "outputs": [],
   "source": [
    "cols   = ['ebv','logHI', 'nstar',\\\n",
    "          'depth_r_total', 'depth_g_total', 'depth_z_total',\\\n",
    "         'fwhm_r_mean', 'fwhm_g_mean', 'fwhm_z_mean',\\\n",
    "         'ccdskymag_r_mean', 'ccdskymag_g_mean', 'ccdskymag_z_mean',\n",
    "         'exptime_r_total', 'exptime_g_total', 'exptime_z_total',\n",
    "         'mjd_r_min', 'mjd_g_min', 'mjd_z_min'] \n",
    "fitname = '/Volumes/TimeMachine/data/DR7/eBOSS.ELG.NGC.DR7.table.fits'\n",
    "metaname = '/Volumes/TimeMachine/data/DR7/DR7meta.h5'\n",
    "hpmask   = '/Volumes/TimeMachine/data/DR7/mask.hp.256.fits'\n",
    "hpfrac   = '/Volumes/TimeMachine/data/DR7/frac.hp.256.fits'\n",
    "\n",
    "# call the function\n",
    "hd5_2_fits(metaname, fitname, hpmask, hpfrac, cols)"
   ]
  },
  {
   "cell_type": "markdown",
   "metadata": {},
   "source": [
    "## Split the FITS table into Training, Test and Validation sets"
   ]
  },
  {
   "cell_type": "code",
   "execution_count": null,
   "metadata": {},
   "outputs": [],
   "source": [
    "from utils import read_split_write"
   ]
  },
  {
   "cell_type": "code",
   "execution_count": null,
   "metadata": {},
   "outputs": [],
   "source": [
    "read_split_write('/Volumes/TimeMachine/data/DR7/eBOSS.ELG.NGC.DR7.table.fits',\n",
    "                 '/Volumes/TimeMachine/data/DR7/eBOSS.ELG.NGC.DR7.table.5.r.npy',\n",
    "                 k=5,\n",
    "                 random=True)"
   ]
  },
  {
   "cell_type": "code",
   "execution_count": null,
   "metadata": {},
   "outputs": [],
   "source": [
    "ls -lt /Volumes/TimeMachine/data/DR7/"
   ]
  },
  {
   "cell_type": "markdown",
   "metadata": {},
   "source": [
    "# Split the FITS table for the mock footprint for testing"
   ]
  },
  {
   "cell_type": "code",
   "execution_count": null,
   "metadata": {},
   "outputs": [],
   "source": [
    "dt = ft.read('/Volumes/TimeMachine/data/DR7/eBOSS.ELG.NGC.DR7.table.fits')\n",
    "dt.dtype.names"
   ]
  },
  {
   "cell_type": "code",
   "execution_count": null,
   "metadata": {},
   "outputs": [],
   "source": [
    "mock = hp.read_map('/Volumes/TimeMachine/data/mocks/mask.hp.256.fits') > 0"
   ]
  },
  {
   "cell_type": "code",
   "execution_count": null,
   "metadata": {},
   "outputs": [],
   "source": [
    "data_on_mock = np.in1d(dt['hpind'], np.argwhere(mock).flatten())\n",
    "data_on_mock.mean()"
   ]
  },
  {
   "cell_type": "code",
   "execution_count": null,
   "metadata": {},
   "outputs": [],
   "source": [
    "dt_mock = dt[data_on_mock]\n",
    "dt_mock.size"
   ]
  },
  {
   "cell_type": "code",
   "execution_count": null,
   "metadata": {},
   "outputs": [],
   "source": [
    "from utils import split2Kfolds"
   ]
  },
  {
   "cell_type": "code",
   "execution_count": null,
   "metadata": {},
   "outputs": [],
   "source": [
    "dt_mock5 = split2Kfolds(dt_mock)"
   ]
  },
  {
   "cell_type": "code",
   "execution_count": null,
   "metadata": {},
   "outputs": [],
   "source": [
    "np.save('/Volumes/TimeMachine/data/DR7/eBOSS.ELG.NGC.DR7.mocks.table.5.r.npy', dt_mock5)"
   ]
  }
 ],
 "metadata": {
  "kernelspec": {
   "display_name": "py3p6",
   "language": "python",
   "name": "py3p6"
  },
  "language_info": {
   "codemirror_mode": {
    "name": "ipython",
    "version": 3
   },
   "file_extension": ".py",
   "mimetype": "text/x-python",
   "name": "python",
   "nbconvert_exporter": "python",
   "pygments_lexer": "ipython3",
   "version": "3.6.9"
  }
 },
 "nbformat": 4,
 "nbformat_minor": 2
}
