{
 "cells": [
  {
   "cell_type": "markdown",
   "metadata": {},
   "source": [
    "# Window Function on 2D clustering"
   ]
  },
  {
   "cell_type": "markdown",
   "metadata": {},
   "source": [
    "steps are :\n",
    "1. Transform the theory cell to the theory omega                               \n",
    "2.1 Transfrom the window cell to the window omega                               \n",
    "2.2 Compute the window omega directly with paircounts                             \n",
    "3. Multiply the theory omega by the window omega\n",
    "4. Transform back the window-convolved theory omega to cell"
   ]
  },
  {
   "cell_type": "code",
   "execution_count": null,
   "metadata": {},
   "outputs": [],
   "source": [
    "## import modules\n",
    "%matplotlib inline\n",
    "import matplotlib.pyplot as plt\n",
    "import numpy as np\n",
    "import healpy as hp\n",
    "from scipy.optimize import curve_fit\n",
    "from scipy.interpolate import InterpolatedUnivariateSpline as IUS\n",
    "from scipy.special import eval_legendre as scipyLeg\n",
    "from time import time\n",
    "import logging\n",
    "import sys\n",
    "sys.path.insert(0, '/Users/rezaie/github/LSSutils')\n",
    "from LSSutils import setup_logging"
   ]
  },
  {
   "cell_type": "code",
   "execution_count": null,
   "metadata": {},
   "outputs": [],
   "source": [
    "setup_logging('info')"
   ]
  },
  {
   "cell_type": "code",
   "execution_count": null,
   "metadata": {},
   "outputs": [],
   "source": [
    "plt.rc('font', size=20)#, family='serif')"
   ]
  },
  {
   "cell_type": "code",
   "execution_count": null,
   "metadata": {},
   "outputs": [],
   "source": [
    "def poly(x, *params):\n",
    "    ans = params[0]\n",
    "    for i in range(1, len(params)):\n",
    "        ans += np.power(x, i)*params[i]\n",
    "    return ans\n",
    "\n",
    "def gauleg(ndeg, a=-1.0, b=1.0):\n",
    "    '''\n",
    "       Gauss-Legendre (default interval is [-1, 1])\n",
    "    '''\n",
    "    x, w = np.polynomial.legendre.leggauss(ndeg)\n",
    "    # Translate x values from the interval [-1, 1] to [a, b]\n",
    "    t = 0.5*(x + 1)*(b - a) + a\n",
    "    w *= 0.5*(b - a)\n",
    "    return t, w\n",
    "\n",
    "def xi2cl(x, w, xi, nlmax):\n",
    "    '''\n",
    "        calculates Cell from omega\n",
    "    '''\n",
    "    cl  = []#np.zeros(nlmax+1)\n",
    "    #m   = np.arange(nlmax+1)\n",
    "    xiw = xi*w\n",
    "    for i in range(nlmax+1):\n",
    "        Pl    = np.polynomial.Legendre.basis(i)(x)\n",
    "        #cl[i] = (xi * Pl * w).sum()\n",
    "        cl.append((xiw * Pl).sum())\n",
    "        \n",
    "    cl = np.array(cl)\n",
    "    cl *= 2.*np.pi\n",
    "    return cl\n",
    "\n",
    "def cl2xi(cell, costheta):\n",
    "    '''\n",
    "        calculates omega from Cell at Cos(theta)\n",
    "    '''\n",
    "    inv4pi = 0.07957747155 # 0.25/(np.pi)\n",
    "    ell = np.arange(cell.size)\n",
    "    coef = (2*ell+1) * cell\n",
    "    coef *= inv4pi\n",
    "    y = np.polynomial.legendre.legval(costheta, c=coef, tensor=False)\n",
    "    return y\n",
    "\n",
    "\n",
    "def apply_window_v0(clth, theta, xiw, theory=True):\n",
    "    Xiw  = IUS(np.cos(theta), xiw)\n",
    "    lmax = clth.size-1 \n",
    "    x,w  = np.polynomial.legendre.leggauss(lmax)\n",
    "    xith = cl2xi(clth, x)\n",
    "    xiw  = Xiw(x)\n",
    "    if theory:\n",
    "        xif  = xith * xiw\n",
    "    else:\n",
    "        xif  = xith / xiw\n",
    "    \n",
    "    clf  = xi2cl(x, w, xif, lmax)\n",
    "    return clf, (x, xif)  \n",
    "\n",
    "\n",
    "class CellTheory:\n",
    "    \n",
    "    logger = logging.getLogger('CellTheory')\n",
    "    \n",
    "    def __init__(self, \n",
    "                 cellfile='/Volumes/TimeMachine/data/mocks/fftloggz0.85redbias2.out',\n",
    "                 lmax=10000):\n",
    "        \n",
    "        self.l_mod, self.cl_mod = np.loadtxt(cellfile, usecols=(0,1), unpack=True)\n",
    "        \n",
    "        self.lmax = int(self.l_mod.max())\n",
    "        self.lmin = int(self.l_mod.min())\n",
    "        \n",
    "        self.logger.info(f'ellmin = {self.lmin}, C_ellmin = {self.cl_mod[0]}')        \n",
    "        self.logger.info(f'ellmax = {self.lmax}, C_ellmax = {self.cl_mod[-1]}')  \n",
    "        \n",
    "        if self.lmin != 0.0:\n",
    "            self.logger.warning(f'insert 0.0 for ell=0')\n",
    "            self.cl_mod = np.insert(self.cl_mod, 0, 0.0)\n",
    "                \n",
    "        if lmax > self.lmax:\n",
    "            self.logger.info(f'extend to {lmax}')\n",
    "            self._extend(lmax)\n",
    "            self.lmax = lmax\n",
    "\n",
    "    def convolve(self, XIW, lmax=512, ngauss=4*1024):\n",
    "        assert lmax <= self.lmax, 'lmax is too high'\n",
    "        t0 = time()\n",
    "        #--- convolve the theory with the window\n",
    "        cos_sep, weights = np.polynomial.legendre.leggauss(ngauss)\n",
    "        mid_sep = np.arccos(cos_sep)\n",
    "\n",
    "        xi_window = XIW(mid_sep)\n",
    "        xi_model = self.toxi(cos_sep)\n",
    "\n",
    "        t1 = time()\n",
    "        print(f'cl2xi : {t1-t0:6.1f} s')\n",
    "\n",
    "        xi_mod_wind = xi_model * xi_window\n",
    "        scalefactor = xi_model.sum()/xi_mod_wind.sum()\n",
    "        xi_mod_wind *= scalefactor\n",
    "        cl_mod_wind = xi2cl(cos_sep, weights, xi_mod_wind, lmax)\n",
    "\n",
    "        t2 = time()\n",
    "\n",
    "        print(f'xi2cl : {t2-t1:6.1f} s')\n",
    "\n",
    "\n",
    "        return {'ell':np.arange(lmax+1), \n",
    "               'Cell':self.cl_mod_ex[:lmax+1],\n",
    "               'Cellconv':cl_mod_wind,\n",
    "               'Xiwindow':xi_window,\n",
    "               'Ximodel':xi_model}    \n",
    "        \n",
    "    def _extend(self, lmax):\n",
    "        \n",
    "        # fit\n",
    "        self.params,_ = curve_fit(self._lncl, \n",
    "                                  np.log(self.l_mod[-10:]),\n",
    "                                  np.log(self.cl_mod[-10:]), \n",
    "                                  p0=[1., 0.])\n",
    "        \n",
    "        clmod_ext = list(self.cl_mod)\n",
    "        for ell in range(self.lmax, lmax+1):\n",
    "            clmod_ext.append(np.exp(self._lncl(np.log(ell), *self.params)))\n",
    "        \n",
    "        self.cl_mod_ex = np.array(clmod_ext)\n",
    "        \n",
    "        \n",
    "    def _lncl(self, lnl, *params):\n",
    "        return params[0]+lnl*params[1]-(np.exp(lnl)/self.lmax-1.)\n",
    "                                \n",
    "        \n",
    "    def toxi(self, cos_sep):\n",
    "        return cl2xi(self.cl_mod_ex, cos_sep)\n",
    "    \n",
    "    def plot(self, ax=None, **kwargs):\n",
    "        if ax is None:\n",
    "            fig, ax = plt.subplots(figsize=(8, 6))\n",
    "            \n",
    "        if hasattr(self, 'cl_mod_ex'):\n",
    "            ax.plot(self.cl_mod_ex, 'y-')\n",
    "            \n",
    "        ax.plot(self.cl_mod, 'g--')        \n",
    "        ax.set(xscale='log', xlabel=r'$\\ell$', ylabel=r'C$_\\ell$')\n",
    "        \n",
    "    def load(self, \n",
    "             ximodel='/Volumes/TimeMachine/data/DR7/theta_omega_theory.txt'):\n",
    "        self.sep_rad, self.xi_mod = np.loadtxt(ximodel).T\n",
    "        self.dsep_rad = np.diff(self.sep_rad)\n",
    "        \n",
    "        \n",
    "class XiWindow:\n",
    "    \n",
    "    def __init__(self, \n",
    "                 xifile='/Volumes/TimeMachine/data/DR7/dr7_window.cut.256.npy',\n",
    "                 dof=8):\n",
    "        '''\n",
    "        '''\n",
    "        result   = np.load(xifile, allow_pickle=True)\n",
    "        sep      = result[0]\n",
    "        self.rr  = result[1][0]\n",
    "        if sep[0] > sep[1]:\n",
    "            print('reordering arrays i.e., increasing')\n",
    "            sep  = sep[::-1]\n",
    "            self.rr  = self.rr[::-1]\n",
    "        \n",
    "        self.mid_sep = 0.5*(sep[:-1]+sep[1:])\n",
    "        self.dsep = np.diff(sep)\n",
    "        \n",
    "        # norm\n",
    "        self.rr_normed = self.rr / (np.sin(self.mid_sep)*self.dsep)\n",
    "        self.rr_normed /= self.rr_normed[0]\n",
    "        \n",
    "        # fit\n",
    "        self._fit(dof)\n",
    "        norm = self(0.0)\n",
    "        \n",
    "        # renormaliza\n",
    "        self.params = [p/norm for p in self.params]\n",
    "        self.rr_normed /= norm\n",
    "        \n",
    "    def __call__(self, mid_sep):\n",
    "        return poly(mid_sep, *self.params)\n",
    "    \n",
    "    \n",
    "    def _fit(self, dof=8, nmodes_ext=50):\n",
    "        mid_sep_ext = list(self.mid_sep)\n",
    "        rr_ext = list(self.rr_normed)\n",
    "\n",
    "        for j in range(nmodes_ext):\n",
    "            # right end\n",
    "            mid_sep_ext.append(self.mid_sep[-1]+(j+1)*self.dsep[-1-j])\n",
    "            rr_ext.append(self.rr_normed[-1-j])\n",
    "\n",
    "            # left end\n",
    "            #mid_sep_ext.insert(0, xi_wind.mid_sep[0]-(j+1)*xi_wind.dsep[0])\n",
    "            #rr_ext.insert(0, xi_wind.rr_normed[j+1])\n",
    "\n",
    "        p0 = [0 for i in range(dof)]\n",
    "        self.params,_ = curve_fit(poly, mid_sep_ext, rr_ext, p0=p0)    "
   ]
  },
  {
   "cell_type": "code",
   "execution_count": null,
   "metadata": {},
   "outputs": [],
   "source": [
    "frac = hp.read_map('/Volumes/TimeMachine/data/DR7/frac.hp.256.fits', verbose=False)\n",
    "mask = hp.read_map('/Volumes/TimeMachine/data/DR7/mask.cut.hp.256.fits', verbose=False) > 0\n",
    "print(frac[mask].sum())\n",
    "\n",
    "frac = hp.read_map('/Volumes/TimeMachine/data/mocks/fracgood.hp256.fits', verbose=False)\n",
    "mask = hp.read_map('/Volumes/TimeMachine/data/mocks/mask.cut.w.hp.256.fits', verbose=False) > 0\n",
    "print(frac[mask].sum())"
   ]
  },
  {
   "cell_type": "markdown",
   "metadata": {},
   "source": [
    "## Step 1: Transfor theory Cell to Omega"
   ]
  },
  {
   "cell_type": "code",
   "execution_count": null,
   "metadata": {},
   "outputs": [],
   "source": [
    "# read paircount\n",
    "paircount = '/Volumes/TimeMachine/data/DR7/dr7_window.cut.256.npy'\n",
    "XIW = XiWindow(paircount)\n",
    "\n",
    "\n",
    "# ---  theoretical C_ell ---\n",
    "fftlog = '/Volumes/TimeMachine/data/mocks/fftlog.out'\n",
    "CFFT = CellTheory(fftlog)\n",
    "\n",
    "fftlog2 = '/Volumes/TimeMachine/data/mocks/fftloggz0.85redbias2.out'\n",
    "CFFT2 = CellTheory(fftlog2)\n",
    "\n",
    "\n",
    "clwind = CFFT.convolve(XIW)\n",
    "clwind2 = CFFT2.convolve(XIW)"
   ]
  },
  {
   "cell_type": "code",
   "execution_count": null,
   "metadata": {},
   "outputs": [],
   "source": [
    "fig, ax = plt.subplots()\n",
    "\n",
    "for cli in [clwind, clwind2]:    \n",
    "    ax.plot(cli['Cellconv']/cli['Cell'], 'r--')\n",
    "ax.set_xscale('log')\n",
    "ax.tick_params(direction='in', which='both', axis='both', top=True, right=True)\n",
    "ax.grid(True, ls=':', color='grey', alpha=0.3)\n"
   ]
  },
  {
   "cell_type": "code",
   "execution_count": null,
   "metadata": {},
   "outputs": [],
   "source": [
    "np.save('/Volumes/TimeMachine/data/DR7/results_referee/cl_window_model.npy',\n",
    "       {'rsd':clwind2, 'norsd':clwind})"
   ]
  },
  {
   "cell_type": "code",
   "execution_count": null,
   "metadata": {},
   "outputs": [],
   "source": [
    "# read paircount\n",
    "paircount = '/Volumes/TimeMachine/data/mocks/mocks_window.cut.256.npy'\n",
    "XIW = XiWindow(paircount)\n",
    "\n",
    "\n",
    "# ---  theoretical C_ell ---\n",
    "fftlog = '/Volumes/TimeMachine/data/mocks/fftlog.out'\n",
    "CFFT = CellTheory(fftlog)\n",
    "\n",
    "fftlog2 = '/Volumes/TimeMachine/data/mocks/fftloggz0.85redbias2.out'\n",
    "CFFT2 = CellTheory(fftlog2)\n",
    "\n",
    "\n",
    "clwind = CFFT.convolve(XIW)\n",
    "clwind2 = CFFT2.convolve(XIW)"
   ]
  },
  {
   "cell_type": "code",
   "execution_count": null,
   "metadata": {},
   "outputs": [],
   "source": [
    "fig, ax = plt.subplots()\n",
    "\n",
    "for cli in [clwind, clwind2]:    \n",
    "    ax.plot(cli['Cellconv']/cli['Cell'], 'r--')\n",
    "ax.set_xscale('log')\n",
    "ax.tick_params(direction='in', which='both', axis='both', top=True, right=True)\n",
    "ax.grid(True, ls=':', color='grey', alpha=0.3)"
   ]
  },
  {
   "cell_type": "markdown",
   "metadata": {},
   "source": [
    "## Step 2: Multiply theory omega by window omega"
   ]
  },
  {
   "cell_type": "code",
   "execution_count": null,
   "metadata": {},
   "outputs": [],
   "source": [
    "# # fftlog2 = '/Volumes/TimeMachine/data/mocks/fftloggz0.85redbias2.out'\n",
    "# # ebosscl = '/Volumes/TimeMachine/data/mocks/eBOSSELG.cell.dat'\n",
    "\n",
    "# cl_fft = CellTheory(fftlog)\n",
    "# cl_fft2 = CellTheory(fftlog2)\n",
    "# cl_eboss = CellTheory(ebosscl)\n",
    "\n",
    "# fig, ax = plt.subplots(figsize=(12, 6))\n",
    "\n",
    "# for cl_modi in [cl_fft, cl_fft2, cl_eboss]:\n",
    "#     ell = np.arange(cl_modi.cl_mod_ex.size)\n",
    "    \n",
    "#     ax.plot(ell, cl_modi.cl_mod_ex)\n",
    "    \n",
    "# ax.set(xlabel=r'$\\ell$', ylabel=r'C$_\\ell$', xscale='log')\n",
    "# ax.grid(True, ls=':', alpha=0.5, which='both')\n",
    "\n",
    "\n",
    "# def plot(cl_mod):\n",
    "#     plt.plot(cl_mod.cl_mod_ex, 'y-',\n",
    "#             cl_mod.cl_mod, 'g--')\n",
    "#     return None\n",
    "\n",
    "\n",
    "# plt.figure(figsize=(12, 8))\n",
    "\n",
    "# # fig\n",
    "# plot(cl_mod)\n",
    "# plt.xscale('log')\n",
    "\n",
    "# # sub fig\n",
    "# plt.axes([0.55, 0.6, 0.3, 0.2])\n",
    "# plot(cl_mod)\n",
    "# plt.xlim(8.0e2, 1.2e3)\n",
    "# plt.ylim(3.0e-8, 8.0e-8)"
   ]
  },
  {
   "cell_type": "code",
   "execution_count": null,
   "metadata": {},
   "outputs": [],
   "source": [
    "#--- data\n",
    "# window xi x theory xi\n",
    "\n",
    "\n",
    "# #xi_wind.smooth(saveto='/Volumes/TimeMachine/data/DR7/dr7_window_theta_omega.cut.256.txt')\n",
    "# xi_wind.load(infile='/Volumes/TimeMachine/data/DR7/dr7_window_theta_omega.cut.256.txt', sf=0.6864554309873736)\n",
    "# xi_wind.plot()"
   ]
  },
  {
   "cell_type": "code",
   "execution_count": null,
   "metadata": {},
   "outputs": [],
   "source": []
  },
  {
   "cell_type": "code",
   "execution_count": null,
   "metadata": {},
   "outputs": [],
   "source": []
  },
  {
   "cell_type": "code",
   "execution_count": null,
   "metadata": {},
   "outputs": [],
   "source": [
    "plt.plot(mid_sep_ext, rr_ext, color='grey')\n",
    "# plt.plot(xi_wind.mid_sep, xi_wind.rr_normed, color='k')\n",
    "plt.plot(xi_wind.mid_sep, poly(np.array(xi_wind.mid_sep), *params), \n",
    "         label='dof=%d'%dof, color='m', alpha=0.8, ls='--')\n",
    "\n",
    "\n",
    "# plt.xscale('log')\n",
    "plt.yscale('log')\n",
    "plt.legend(bbox_to_anchor=(1., 1.))\n",
    "plt.xlabel('theta [rad.]')\n",
    "plt.ylabel('RR')"
   ]
  },
  {
   "cell_type": "code",
   "execution_count": null,
   "metadata": {},
   "outputs": [],
   "source": []
  },
  {
   "cell_type": "code",
   "execution_count": null,
   "metadata": {},
   "outputs": [],
   "source": []
  },
  {
   "cell_type": "code",
   "execution_count": null,
   "metadata": {},
   "outputs": [],
   "source": []
  },
  {
   "cell_type": "code",
   "execution_count": null,
   "metadata": {},
   "outputs": [],
   "source": [
    "scalefactor"
   ]
  },
  {
   "cell_type": "code",
   "execution_count": null,
   "metadata": {},
   "outputs": [],
   "source": [
    "#\n",
    "# plt.plot()\n",
    "fig, ax = plt.subplots(ncols=2, figsize=(12, 4))\n",
    "\n",
    "\n",
    "ax[0].plot(np.arange(513), cl_fft.cl_mod_ex[:513]/cl_mod_wind, \n",
    "            marker='.', c='k')\n",
    "ax[0].legend(['Model/(ModelxWindow)'])\n",
    "# ax[0].legend()\n",
    "ax[0].set_xscale('log')\n",
    "ax[0].grid(True, ls=':', color='grey')\n",
    "ax[0].set_ylim(0.9, 1.1)\n",
    "ax[0].set_xlim(0.6, 600)\n",
    "\n",
    "ax[1].plot(cl_fft.cl_mod_ex*1.0e+6, 'grey')\n",
    "ax[1].plot(cl_mod_wind*1.0e+6, 'r--')\n",
    "ax[1].set_ylabel('Cellx1.e+6')\n",
    "ax[1].set_xlim(0.6, 600)\n",
    "ax[1].legend(['Model', 'ModelxWindow'])\n",
    "ax[1].set_xscale('log')\n",
    "\n"
   ]
  },
  {
   "cell_type": "code",
   "execution_count": null,
   "metadata": {},
   "outputs": [],
   "source": [
    "#\n",
    "# plt.plot()\n",
    "fig, ax = plt.subplots(ncols=2, figsize=(12, 4))\n",
    "\n",
    "\n",
    "ax[0].plot(np.arange(513), cl_mod.clmod[:513]/cl_mod_wind, \n",
    "            marker='.', c='k')\n",
    "ax[0].legend(['Model/(ModelxWindow)'])\n",
    "# ax[0].legend()\n",
    "ax[0].set_xscale('log')\n",
    "ax[0].grid(True, ls=':', color='grey')\n",
    "ax[0].set_ylim(0.9, 1.1)\n",
    "ax[0].set_xlim(0.6, 600)\n",
    "\n",
    "ax[1].plot(cl_mod.cl_mod*1.0e+6, 'grey')\n",
    "ax[1].plot(cl_mod_wind*1.0e+6, 'r--')\n",
    "ax[1].set_ylabel('Cellx1.e+6')\n",
    "ax[1].set_xlim(0.6, 600)\n",
    "ax[1].legend(['Model', 'ModelxWindow'])\n",
    "ax[1].set_xscale('log')\n"
   ]
  },
  {
   "cell_type": "code",
   "execution_count": null,
   "metadata": {},
   "outputs": [],
   "source": [
    "(cl_mod.clmod[512]/cl_mod_wind[512])"
   ]
  },
  {
   "cell_type": "code",
   "execution_count": null,
   "metadata": {},
   "outputs": [],
   "source": [
    "cl"
   ]
  },
  {
   "cell_type": "code",
   "execution_count": null,
   "metadata": {},
   "outputs": [],
   "source": []
  },
  {
   "cell_type": "code",
   "execution_count": null,
   "metadata": {},
   "outputs": [],
   "source": []
  },
  {
   "cell_type": "code",
   "execution_count": null,
   "metadata": {},
   "outputs": [],
   "source": []
  },
  {
   "cell_type": "code",
   "execution_count": null,
   "metadata": {},
   "outputs": [],
   "source": []
  },
  {
   "cell_type": "code",
   "execution_count": null,
   "metadata": {},
   "outputs": [],
   "source": [
    "cos_sep = np.cos(cl_mod.sep_rad)\n",
    "xi_mod  = cl_mod.xi_mod\n",
    "\n",
    "xi_mod_intp   = IUS(cos_sep[::-1], xi_mod[::-1])\n",
    "xg, wg        = np.polynomial.legendre.leggauss(20)\n",
    "xi_mod_wind   = xi_mod_intp(xg)*poly(np.arccos(xg), *params)\n",
    "cl_mod_wind   = xi2cl(xg, wg, xi_mod_wind, 2000)\n",
    "\n",
    "# plot\n",
    "ell = np.arange(2000)\n",
    "plt.figure(figsize=(6, 4))\n",
    "plt.plot(np.arange(cl_mod.cl_mod.size), cl_mod.cl_mod, 'k-',\n",
    "         ell, cl_mod_wind[ell], 'r-')\n",
    "plt.loglog()\n",
    "plt.legend(['model', 'model conv. window'], fontsize=12)\n",
    "plt.xlabel(r'$\\ell$')\n",
    "plt.ylabel(r'C$_{\\ell}$')\n",
    "plt.show()\n",
    "\n",
    "\n",
    "# ell = np.arange(1001)\n",
    "# plt.figure(figsize=(6, 4))\n",
    "# plt.scatter(ell, cl_mod.cl_mod[ell]/cl_mod_wind[ell], color='k', marker='.')\n",
    "# plt.xlabel(r'$\\ell$')\n",
    "# plt.title(r'$C_{Model}/C_{{\\rm Model conv. Window}}$')\n",
    "# plt.xlim(0.8, 1200)\n",
    "# # plt.ylim(5.7, 6.3)\n",
    "# plt.ylim(0.9, 1.1)\n",
    "# plt.xscale('log')\n",
    "# plt.show()\n",
    "\n"
   ]
  },
  {
   "cell_type": "code",
   "execution_count": null,
   "metadata": {},
   "outputs": [],
   "source": [
    "#--- mocks\n",
    "# window xi x theory xi\n",
    "xi_wind = XiWindow('/Volumes/TimeMachine/data/mocks/mocks_window.cut.256.npy',\n",
    "                totalfrac=86669.4032)\n",
    "#xi_wind.smooth()\n",
    "# or \n",
    "xi_wind.load('/Volumes/TimeMachine/data/mocks/mocks_window_theta_omega.cut.256.txt',\n",
    "            sf=0.3477201700151347)\n",
    "xi_wind.plot()"
   ]
  },
  {
   "cell_type": "code",
   "execution_count": null,
   "metadata": {},
   "outputs": [],
   "source": [
    "def fix(x, y2):\n",
    "    yc = y2.copy()\n",
    "    m  = x>100\n",
    "    xmin = x[m].min()\n",
    "    yc[m] *= np.exp(-(x[m]-xmin)**2/900)\n",
    "    return yc"
   ]
  },
  {
   "cell_type": "code",
   "execution_count": null,
   "metadata": {},
   "outputs": [],
   "source": [
    "fig, ax = plt.subplots(ncols=2, nrows=2, figsize=(12, 8))\n",
    "ax = ax.flatten()\n",
    "fig.subplots_adjust(hspace=0.3, wspace=0.3)\n",
    "\n",
    "y3 =fix(x, y2)\n",
    "ax[0].plot(x, y1, 'k-', x, y2, 'r--', x, y3, 'b:')\n",
    "ax[0].set(xscale='log',ylabel='RR', xlabel = r'$\\theta$ [deg]')\n",
    "\n",
    "ax[1].plot(x, y1, 'k-', x, y2, 'r--', x, y3, 'b:')\n",
    "ax[1].legend(['RR', 'RR (smoothed)'], fontsize=12, loc=3)\n",
    "ax[1].set(yscale='log',ylabel='RR', xlabel = r'$\\theta$ [deg]')\n",
    "\n",
    "ax[2].plot(x, y2, 'r--', x, y3, 'b:')\n",
    "ax[2].set(ylabel='RR', xlabel = r'$\\theta$ [deg]')\n",
    "\n",
    "ax[3].plot(x, y2, 'r--',x, y3, 'b:')\n",
    "ax[3].set(xlim=(90, 200), ylim=(-0.1, 0.2),ylabel='RR', xlabel = r'$\\theta$ [deg]')\n",
    "plt.show()"
   ]
  },
  {
   "cell_type": "code",
   "execution_count": null,
   "metadata": {},
   "outputs": [],
   "source": [
    "plt.plot(x, y2, 'r-',\n",
    "        x, fix(x, y2), 'b--')"
   ]
  },
  {
   "cell_type": "code",
   "execution_count": null,
   "metadata": {},
   "outputs": [],
   "source": [
    "sep_rad  = np.linspace(0, np.pi, 20*181, endpoint=True)\n",
    "dsep_rad = np.diff(sep_rad)\n",
    "cos_sep  = np.cos(sep_rad)\n",
    "\n",
    "xi_mod_intp = IUS(cos_sep[::-1], xi_mod[::-1])\n",
    "xg, wg      = np.polynomial.legendre.leggauss(5000)\n",
    "xi_mod_wind = xi_mod_intp(xg)*poly(np.arccos(xg), *params)/sf\n",
    "cl_mod_wind = xi2cl(xg, wg, xi_mod_wind, xg.size)\n",
    "\n",
    "# plot\n",
    "ell = np.arange(2000)\n",
    "plt.figure(figsize=(6, 4))\n",
    "plt.plot(np.arange(cl_mod.cl_mod.size), cl_mod.cl_mod, 'k-',\n",
    "         ell, cl_mod_wind[ell], 'r-')\n",
    "plt.loglog()\n",
    "plt.legend(['model', 'model conv. window'], fontsize=12)\n",
    "plt.xlabel(r'$\\ell$')\n",
    "plt.ylabel(r'C$_{\\ell}$')\n",
    "plt.show()\n",
    "\n",
    "\n",
    "ell = np.arange(1001)\n",
    "plt.figure(figsize=(6, 4))\n",
    "plt.scatter(ell, cl_mod.cl_mod[ell]/cl_mod_wind[ell], color='k', marker='.')\n",
    "plt.xlabel(r'$\\ell$')\n",
    "plt.title(r'$C_{Model}/C_{{\\rm Model conv. Window}}$')\n",
    "plt.xlim(0.8, 1200)\n",
    "# plt.ylim(5.7, 6.3)\n",
    "plt.ylim(0.9, 1.1)\n",
    "plt.xscale('log')\n",
    "plt.show()\n",
    "\n",
    "np.savetxt('/Volumes/TimeMachine/data/mocks/mocks_ell_cell_theory_window.cut.256.txt', \n",
    "           np.column_stack([ell, cl_mod.cl_mod[ell], cl_mod_wind[ell]]),\n",
    "           header='ell - Cell - Cell window conv.')"
   ]
  },
  {
   "cell_type": "code",
   "execution_count": null,
   "metadata": {},
   "outputs": [],
   "source": [
    "xi_mod_intp   = IUS(cos_sep[::-1], xi_mod[::-1])\n",
    "xg, wg        = np.polynomial.legendre.leggauss(5000)\n",
    "xi_mod_wind   = xi_mod_intp(xg)*poly(np.arccos(xg), *params)/sf\n",
    "cl_mod_wind   = xi2cl(xg, wg, xi_mod_wind, xg.size)\n",
    "\n",
    "# plot\n",
    "ell = np.arange(2000)\n",
    "plt.figure(figsize=(6, 4))\n",
    "plt.plot(np.arange(cl_mod.cl_mod.size), cl_mod.cl_mod, 'k-',\n",
    "         ell, cl_mod_wind[ell], 'r-')\n",
    "plt.loglog()\n",
    "plt.legend(['model', 'model conv. window'], fontsize=12)\n",
    "plt.xlabel(r'$\\ell$')\n",
    "plt.ylabel(r'C$_{\\ell}$')\n",
    "plt.show()\n",
    "\n",
    "\n",
    "ell = np.arange(1001)\n",
    "plt.figure(figsize=(6, 4))\n",
    "plt.scatter(ell, cl_mod.cl_mod[ell]/cl_mod_wind[ell], color='k', marker='.')\n",
    "plt.xlabel(r'$\\ell$')\n",
    "plt.title(r'$C_{Model}/C_{{\\rm Model conv. Window}}$')\n",
    "plt.xlim(0.8, 1200)\n",
    "# plt.ylim(5.7, 6.3)\n",
    "plt.ylim(0.9, 1.1)\n",
    "plt.xscale('log')\n",
    "plt.show()\n",
    "\n",
    "np.savetxt('/Volumes/TimeMachine/data/DR7/dr7_ell_cell_theory_window.cut.256.txt', \n",
    "           np.column_stack([ell, cl_mod.cl_mod[ell], cl_mod_wind[ell]]),\n",
    "           header='ell - Cell - Cell window conv.')"
   ]
  },
  {
   "cell_type": "code",
   "execution_count": null,
   "metadata": {},
   "outputs": [],
   "source": []
  },
  {
   "cell_type": "code",
   "execution_count": null,
   "metadata": {},
   "outputs": [],
   "source": []
  },
  {
   "cell_type": "code",
   "execution_count": null,
   "metadata": {},
   "outputs": [],
   "source": []
  },
  {
   "cell_type": "code",
   "execution_count": null,
   "metadata": {},
   "outputs": [],
   "source": []
  },
  {
   "cell_type": "code",
   "execution_count": null,
   "metadata": {},
   "outputs": [],
   "source": []
  },
  {
   "cell_type": "code",
   "execution_count": null,
   "metadata": {},
   "outputs": [],
   "source": []
  },
  {
   "cell_type": "code",
   "execution_count": null,
   "metadata": {},
   "outputs": [],
   "source": [
    "cl_obs = np.load('/Volumes/TimeMachine/data/DR7/results/clustering/cl_nn_ab.npy', \n",
    "                allow_pickle=True).item()"
   ]
  },
  {
   "cell_type": "code",
   "execution_count": null,
   "metadata": {},
   "outputs": [],
   "source": [
    "frac = hp.read_map('/Volumes/TimeMachine/data/DR7/frac.hp.256.fits', verbose=False)\n",
    "mask = hp.read_map('/Volumes/TimeMachine/data/DR7/mask.cut.hp.256.fits', verbose=False) > 0\n",
    "frac[mask].sum()"
   ]
  },
  {
   "cell_type": "code",
   "execution_count": null,
   "metadata": {},
   "outputs": [],
   "source": [
    "mask1024 = hp.ud_grade(mask, nside_out=1024)\n",
    "frac1024 = hp.ud_grade(frac, nside_out=1024)"
   ]
  },
  {
   "cell_type": "code",
   "execution_count": null,
   "metadata": {},
   "outputs": [],
   "source": [
    "hpfrac = hp.ma(frac1024)"
   ]
  },
  {
   "cell_type": "code",
   "execution_count": null,
   "metadata": {},
   "outputs": [],
   "source": [
    "hpfrac.mask=np.logical_not(mask1024>0)"
   ]
  },
  {
   "cell_type": "code",
   "execution_count": null,
   "metadata": {},
   "outputs": [],
   "source": [
    "hp.mollview(hpfrac.filled(), rot=-89, title='DR7')"
   ]
  },
  {
   "cell_type": "code",
   "execution_count": null,
   "metadata": {},
   "outputs": [],
   "source": [
    "cl_win = hp.anafast(hpfrac.filled(), lmax=1024)"
   ]
  },
  {
   "cell_type": "code",
   "execution_count": null,
   "metadata": {},
   "outputs": [],
   "source": [
    "plt.loglog(cl_win)"
   ]
  },
  {
   "cell_type": "code",
   "execution_count": null,
   "metadata": {},
   "outputs": [],
   "source": [
    "xi_win = cl2xi(cl_win, cos_sep)"
   ]
  },
  {
   "cell_type": "code",
   "execution_count": null,
   "metadata": {},
   "outputs": [],
   "source": [
    "plt.plot(np.degrees(sep_rad), xi_win/0.23623275756835938)\n",
    "plt.xscale('log')\n",
    "plt.ylim(0, 1)"
   ]
  },
  {
   "cell_type": "code",
   "execution_count": null,
   "metadata": {},
   "outputs": [],
   "source": [
    "cl_obs_wind,_ = apply_window_v0(cl_obs['auto']*0.23429479830970087, sep_rad[::-1], xi_win[::-1]/0.23429479830970087, theory=False)"
   ]
  },
  {
   "cell_type": "code",
   "execution_count": null,
   "metadata": {},
   "outputs": [],
   "source": [
    "plt.plot(cl_obs['auto'], 'k-',\n",
    "        cl_obs_wind, 'r--')\n",
    "# plt.loglog()\n",
    "# plt.ylim(1.e-9, 1.e-5)"
   ]
  },
  {
   "cell_type": "code",
   "execution_count": null,
   "metadata": {},
   "outputs": [],
   "source": [
    "mask.mean()"
   ]
  },
  {
   "cell_type": "code",
   "execution_count": null,
   "metadata": {},
   "outputs": [],
   "source": [
    "## uses Ashley's approach,\n",
    "## does not allow multiple zero crossings\n",
    "\n",
    "# import sys\n",
    "# sys.path.append('/Users/rezaie/github/LSSanalysis')\n",
    "# import legendre\n",
    "# from time import time\n",
    "\n",
    "# Leg = np.vectorize(legendre.legendre)\n",
    "# x = np.linspace(-1.0, 1., 100, endpoint=True)\n",
    "# c = np.zeros(5001)\n",
    "# for j in [0, 1, 2]:\n",
    "#     t1 = time()\n",
    "#     y1 = scipyLeg(j, x)\n",
    "#     t2 = time()\n",
    "#     y2= Leg(j, x)\n",
    "#     t3 = time()\n",
    "#     plt.plot(x, y1, color='b', ls='-', alpha=0.5)\n",
    "#     plt.plot(x, y2, color='r', ls=':')\n",
    "#     print('scipy', t2-t1)\n",
    "#     print('ashley', t3-t2)\n",
    "\n",
    "\n",
    "# t     = np.linspace(0., 180., num=4*181, endpoint=True)\n",
    "# cost  = np.cos(np.deg2rad(t))\n",
    "# Omega = np.zeros(cost.size)\n",
    "\n",
    "# elmax = 10000\n",
    "# clmod = cl_mod.run(np.arange(elmax+10))\n",
    "\n",
    "# fig, ax = plt.subplots(nrows=3, figsize=(10, 6), sharey=True,\n",
    "#                       sharex=True)\n",
    "# ls = ['-', '-.', '--']\n",
    "# j = 0\n",
    "# #for cr_limit in [500]:\n",
    "# #    print(cr_limit)\n",
    "# cr_limit=1.0e24\n",
    "# for elmax_l in [10000]:#, 2000, 5000]:\n",
    "#     for i,cost_i in enumerate(cost):\n",
    "#         Omega[i] = 0.0\n",
    "#         el     = 1\n",
    "#         domega = 0.0\n",
    "#         omega  = 0.0\n",
    "#         cr     = 0\n",
    "#         oldpl  = 1\n",
    "#         while (cr <= cr_limit) & (el < elmax_l):\n",
    "#             pl = scipyLeg(el, cost_i)\n",
    "#             domega = (2*el+1)*pl*clmod[el]\n",
    "#             #print(pl, oldpl)\n",
    "#             #if (pl < 0) and (oldpl > 0):\n",
    "#             #    cr += 1\n",
    "#             el    += 1\n",
    "#             omega += domega\n",
    "#             oldpl  = pl\n",
    "#         if i <3:print('i:{}, el:{}'.format(i, el))\n",
    "#         Omega[i] = omega\n",
    "#     Omega *= (0.25/np.pi)\n",
    "#     ax[j].plot(t, Omega/1.0e-5, ls=ls[j], \n",
    "#                label='Lmax=%d'%elmax_l, color='k')\n",
    "#              #label='# of zero crossing = %d'%cr_limit)\n",
    "#     ax[j].text(0.7, 0.1, 'Lmax=%d'%elmax_l, color='k', transform=ax[j].transAxes)\n",
    "#     ax[j].axhline(linestyle=':', color='grey')\n",
    "#     j += 1\n",
    "#     print('Sum Omega = {}'.format(sum(Omega*t)))\n",
    "# # plt.ylim(-4.e-3, 6.e-3)\n",
    "# ax[0].set(ylim=(-2.5, 1.2), title='Theoretical $\\omega$')\n",
    "# ax[2].set(xlabel=r'$\\theta$ [deg]')\n",
    "# ax[1].set(ylabel=r'$\\omega$ [1e-5]')"
   ]
  },
  {
   "cell_type": "code",
   "execution_count": null,
   "metadata": {},
   "outputs": [],
   "source": [
    "cl_obs = np.load('/Volumes/TimeMachine/data/DR7/results/clustering/cl_nn_ab.npy', \n",
    "                allow_pickle=True).item()"
   ]
  },
  {
   "cell_type": "code",
   "execution_count": null,
   "metadata": {},
   "outputs": [],
   "source": [
    "cl_obs.keys()"
   ]
  },
  {
   "cell_type": "code",
   "execution_count": null,
   "metadata": {},
   "outputs": [],
   "source": [
    "cl_obs['sf']"
   ]
  },
  {
   "cell_type": "code",
   "execution_count": null,
   "metadata": {},
   "outputs": [],
   "source": [
    "cl_wobs,_ = apply_window_v0(cl_obs['auto']*0.23429479830970087, xi_th.sep, xi_th.xiw, theory=False)"
   ]
  },
  {
   "cell_type": "code",
   "execution_count": null,
   "metadata": {},
   "outputs": [],
   "source": [
    "cl_wmod,_ = apply_window_v0(cl_mod.cl_mod, xi_th.sep, xi_th.xiw, theory=True)"
   ]
  },
  {
   "cell_type": "code",
   "execution_count": null,
   "metadata": {},
   "outputs": [],
   "source": [
    "plt.plot(np.arange(cl_obs['auto'].size), cl_obs['auto'], marker='+', color='r', label='Observed', ls='None')\n",
    "plt.plot(np.arange(cl_obs['auto'].size), cl_wobs*200,  marker='x', color='b', label='Observed w window', ls='None')\n",
    "\n",
    "plt.plot(np.arange(cl_mod.cl_mod.size),  4*cl_mod.cl_mod  + 8.536537713893294e-07, 'k-',      label='Model')\n",
    "plt.plot(np.arange(cl_wmod.size), 4*cl_wmod/720 + 8.536537713893294e-07, 'k:',      label='Model w window')\n",
    "plt.ylim(1.e-6, 1.e-4)\n",
    "plt.legend(bbox_to_anchor=(1., 1))\n",
    "plt.title('DR7')\n",
    "plt.xlabel(r'$\\ell$')\n",
    "plt.ylabel(r'C$_{\\ell}$')\n",
    "plt.loglog()\n",
    "#plt.xlim(0.9, 1000)\n",
    "# plt.yscale('log')"
   ]
  }
 ],
 "metadata": {
  "kernelspec": {
   "display_name": "py3p6",
   "language": "python",
   "name": "py3p6"
  },
  "language_info": {
   "codemirror_mode": {
    "name": "ipython",
    "version": 3
   },
   "file_extension": ".py",
   "mimetype": "text/x-python",
   "name": "python",
   "nbconvert_exporter": "python",
   "pygments_lexer": "ipython3",
   "version": "3.6.9"
  }
 },
 "nbformat": 4,
 "nbformat_minor": 2
}
