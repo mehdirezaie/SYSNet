{
 "cells": [
  {
   "cell_type": "markdown",
   "metadata": {},
   "source": [
    "# Make Metadata for the Mock tests"
   ]
  },
  {
   "cell_type": "code",
   "execution_count": 11,
   "metadata": {},
   "outputs": [],
   "source": [
    "from   time import time\n",
    "import matplotlib.pyplot as plt\n",
    "import healpy as hp\n",
    "import pymangle as pm\n",
    "import numpy as np\n",
    "import pandas as pd\n",
    "import fitsio as ft\n",
    "from   utils import hpixsum"
   ]
  },
  {
   "cell_type": "markdown",
   "metadata": {},
   "source": [
    "## Generate Randoms on the Mask"
   ]
  },
  {
   "cell_type": "code",
   "execution_count": 8,
   "metadata": {},
   "outputs": [
    {
     "name": "stdout",
     "output_type": "stream",
     "text": [
      "total number of randoms 12892898 on area 5157.159494\n",
      "Expected number of randoms per pixel 131.139625\n",
      "generate 12892898 randoms within 34.1 sec\n",
      "DONE!\n"
     ]
    }
   ],
   "source": [
    "def generate_mocks(path2ply, path2ran, path2ranhp, path2frac):\n",
    "    pm_mask = pm.Mangle(path2ply)\n",
    "    area    = pm_mask.get_area()\n",
    "    Nran_tot = int(2500 * area)   # generate 2500/sq deg * 5158 sq. deg\n",
    "    Nranexp  = Nran_tot * (hp.nside2pixarea(256, degrees=True)/area)\n",
    "    \n",
    "    print('total number of randoms %d on area %.6f'%(Nran_tot, area))\n",
    "    print('Expected number of randoms per pixel %.6f'%Nranexp)\n",
    "\n",
    "    t1 = time()\n",
    "    ra_ran, dec_ran = pm_mask.genrand(Nran_tot)\n",
    "    print('generate %d randoms within %.1f sec'%(ra_ran.size, time()-t1))\n",
    "    randoms = {'ra':ra_ran.astype(np.float64), 'dec':dec_ran.astype(np.float64)}\n",
    "    RANDOMS = pd.DataFrame(data=randoms)\n",
    "    RANDOMS.to_hdf(path2ran,'randoms_radec', mode='w', format='fixed')    \n",
    "    \n",
    "    hpran = hpixsum(256, RANDOMS.ra.values, RANDOMS.dec.values)\n",
    "    kw = dict(dtype=np.float64, fits_IDL=False, overwrite=True)\n",
    "    hp.write_map(path2ranhp, hpran, **kw)\n",
    "    #\n",
    "    #\n",
    "    fracgood = hpran / Nranexp.astype('f8')\n",
    "    kw = dict(dtype=np.float64, fits_IDL=False, overwrite=True)\n",
    "    hp.write_map(path2frac, fracgood, **kw)\n",
    "    print('DONE!')\n",
    "    \n",
    "    \n",
    "    \n",
    "path2ran   = '/Volumes/TimeMachine/data/mocks/randoms.h5'\n",
    "path2ply   = '/Volumes/TimeMachine/data/mocks/mask_ngc.ply'\n",
    "path2ranhp = '/Volumes/TimeMachine/data/mocks/randoms.hp256.fits'\n",
    "path2frac  = '/Volumes/TimeMachine/data/mocks/fracgood.hp256.fits'\n",
    "generate_mocks(path2ply, path2ran, path2ranhp, path2frac)"
   ]
  },
  {
   "cell_type": "code",
   "execution_count": 9,
   "metadata": {},
   "outputs": [
    {
     "name": "stdout",
     "output_type": "stream",
     "text": [
      "total 635072\r\n",
      "-rw-r--r--  1 rezaie  staff    6298560 Feb 22 16:05 fracgood.hp256.fits\r\n",
      "-rw-r--r--  1 rezaie  staff    6298560 Feb 22 16:05 randoms.hp256.fits\r\n",
      "-rw-r--r--  1 rezaie  staff  309436792 Feb 22 16:05 randoms.h5\r\n",
      "-rw-r--r--  1 rezaie  staff      81000 Feb 22 16:03 fftlog.out\r\n",
      "-rw-r--r--  1 rezaie  staff    3023247 Feb 22 16:02 mask_ngc.ply\r\n"
     ]
    }
   ],
   "source": [
    "ls -lt /Volumes/TimeMachine/data/mocks/"
   ]
  },
  {
   "cell_type": "markdown",
   "metadata": {},
   "source": [
    "## Project mocks on Data footprint"
   ]
  },
  {
   "cell_type": "code",
   "execution_count": 13,
   "metadata": {},
   "outputs": [
    {
     "name": "stdout",
     "output_type": "stream",
     "text": [
      "data size 187257\n",
      "mock > 0.0  98734\n",
      "Mock with imaging attrs  89672\n",
      "DONE!!!\n"
     ]
    }
   ],
   "source": [
    "def project_mock_data(dataname, fracname, mocktab, mockmsk, fraccut):    \n",
    "    # read data\n",
    "    data,h = ft.read(dataname, header=True)\n",
    "    print('data size', data.size)\n",
    "\n",
    "    # mock fracmap\n",
    "    frac  = hp.read_map(fracname, verbose=False)\n",
    "    mhpix = np.argwhere(frac>fraccut).flatten()\n",
    "    print('mock > 0.0 ', mhpix.size)\n",
    "\n",
    "    # find the overlap\n",
    "    mockondata = np.in1d(data['hpind'], mhpix)\n",
    "    datamock   = data[mockondata]\n",
    "    datamock['fracgood'] = frac[datamock['hpind']]  # replace the fracgood with the mocks \n",
    "    datamock['label'][:] = 0.0\n",
    "\n",
    "    print('Mock with imaging attrs ', datamock.size)\n",
    "    h['Note'] = 'This is for the mocks'\n",
    "    ft.write(mocktab, datamock, header=h, clobber=True)\n",
    "\n",
    "\n",
    "    # make mask\n",
    "    mask = np.zeros(12*256*256)\n",
    "    mask[datamock['hpind']] = 1.0\n",
    "    hp.write_map(mockmsk, mask, fits_IDL=False, overwrite=True)\n",
    "    print('DONE!!!')\n",
    "\n",
    "#\n",
    "# data\n",
    "dataname = '/Volumes/TimeMachine/data/DR7/eBOSS.ELG.NGC.DR7.table.fits'\n",
    "fracname = '/Volumes/TimeMachine/data/mocks/fracgood.hp256.fits'\n",
    "mocktab  = '/Volumes/TimeMachine/data/mocks/mocks.DR7.table.fits'\n",
    "mockmsk  = '/Volumes/TimeMachine/data/mocks/mask.hp.256.fits'\n",
    "fraccut  = 0.2\n",
    "project_mock_data(dataname, fracname, mocktab, mockmsk, fraccut)"
   ]
  },
  {
   "cell_type": "code",
   "execution_count": 14,
   "metadata": {},
   "outputs": [
    {
     "name": "stdout",
     "output_type": "stream",
     "text": [
      "total 670672\r\n",
      "-rw-r--r--  1 rezaie  staff    3153600 Feb 22 16:55 mask.hp.256.fits\r\n",
      "-rw-r--r--  1 rezaie  staff   15071040 Feb 22 16:55 mocks.DR7.table.fits\r\n",
      "-rw-r--r--  1 rezaie  staff    6298560 Feb 22 16:05 fracgood.hp256.fits\r\n",
      "-rw-r--r--  1 rezaie  staff    6298560 Feb 22 16:05 randoms.hp256.fits\r\n",
      "-rw-r--r--  1 rezaie  staff  309436792 Feb 22 16:05 randoms.h5\r\n",
      "-rw-r--r--  1 rezaie  staff      81000 Feb 22 16:03 fftlog.out\r\n",
      "-rw-r--r--  1 rezaie  staff    3023247 Feb 22 16:02 mask_ngc.ply\r\n"
     ]
    }
   ],
   "source": [
    "ls -lt /Volumes/TimeMachine/data/mocks/"
   ]
  },
  {
   "cell_type": "code",
   "execution_count": 15,
   "metadata": {},
   "outputs": [],
   "source": [
    "from utils import hpix2radec"
   ]
  },
  {
   "cell_type": "code",
   "execution_count": null,
   "metadata": {},
   "outputs": [],
   "source": [
    "mradec = hpix2radec(256, hpix)\n"
   ]
  }
 ],
 "metadata": {
  "kernelspec": {
   "display_name": "py3p6",
   "language": "python",
   "name": "py3p6"
  },
  "language_info": {
   "codemirror_mode": {
    "name": "ipython",
    "version": 3
   },
   "file_extension": ".py",
   "mimetype": "text/x-python",
   "name": "python",
   "nbconvert_exporter": "python",
   "pygments_lexer": "ipython3",
   "version": "3.6.6"
  }
 },
 "nbformat": 4,
 "nbformat_minor": 2
}
