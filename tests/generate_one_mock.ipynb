{
 "cells": [
  {
   "cell_type": "markdown",
   "metadata": {},
   "source": [
    "# Demo of a Log-normal mock"
   ]
  },
  {
   "cell_type": "code",
   "execution_count": null,
   "metadata": {},
   "outputs": [],
   "source": [
    "%matplotlib inline\n",
    "import matplotlib.pyplot as plt\n",
    "import nbodykit \n",
    "import nbodykit.lab as nb\n",
    "import numpy as np\n",
    "from nbodykit.cosmology import Planck15\n",
    "from nbodykit import setup_logging\n",
    "setup_logging() # turn on logging to screen\n",
    "nbodykit.__version__"
   ]
  },
  {
   "cell_type": "code",
   "execution_count": null,
   "metadata": {},
   "outputs": [],
   "source": [
    "BIAS     = 1.5\n",
    "BOX      = 5274      # Mpc/h\n",
    "NMESH    = 256\n",
    "redshift = 0.85     \n",
    "NBAR     = 1.947e-4 # h3/Mpc3\n",
    "SEED     = 12345\n",
    "cosmo    = nb.cosmology.Planck15\n",
    "Plin     = nb.cosmology.LinearPower(cosmo, redshift, transfer='CLASS')\n",
    "\n",
    "# generate the catalog\n",
    "cat      = nb.LogNormalCatalog(Plin=Plin, nbar=NBAR, BoxSize=BOX,\n",
    "                               Nmesh=NMESH, bias=BIAS, seed=SEED)"
   ]
  },
  {
   "cell_type": "code",
   "execution_count": null,
   "metadata": {},
   "outputs": [],
   "source": [
    "cat.attrs"
   ]
  },
  {
   "cell_type": "code",
   "execution_count": null,
   "metadata": {},
   "outputs": [],
   "source": [
    "cat.columns"
   ]
  },
  {
   "cell_type": "code",
   "execution_count": null,
   "metadata": {},
   "outputs": [],
   "source": [
    "cat['Position'].shape"
   ]
  },
  {
   "cell_type": "code",
   "execution_count": null,
   "metadata": {},
   "outputs": [],
   "source": [
    "pos = cat['Position'].compute()"
   ]
  },
  {
   "cell_type": "code",
   "execution_count": null,
   "metadata": {},
   "outputs": [],
   "source": [
    "plt.hist2d(pos[:,0], pos[:,1], bins=120);plt.show()"
   ]
  },
  {
   "cell_type": "markdown",
   "metadata": {},
   "source": [
    "## Compute the Power Spectrum"
   ]
  },
  {
   "cell_type": "code",
   "execution_count": null,
   "metadata": {},
   "outputs": [],
   "source": [
    "mesh = cat.to_mesh(compensated=True, resampler='cic', \n",
    "                   position='Position', BoxSize=BOX, Nmesh=256)\n",
    "rpol = nb.FFTPower(mesh, mode='1d', poles=[0])"
   ]
  },
  {
   "cell_type": "code",
   "execution_count": null,
   "metadata": {},
   "outputs": [],
   "source": [
    "rpol.attrs"
   ]
  },
  {
   "cell_type": "code",
   "execution_count": null,
   "metadata": {},
   "outputs": [],
   "source": [
    "krange = np.logspace(-3, -1)\n",
    "plt.plot(krange, BIAS**2*Plin(krange), 'k-')\n",
    "for i in [0]:\n",
    "    plt.loglog(rpol.poles['k'], rpol.poles['power_'+str(i)].real -rpol.attrs['shotnoise'],\n",
    "               label=r'$\\ell$ = %d'%i)\n",
    "plt.legend()"
   ]
  }
 ],
 "metadata": {
  "kernelspec": {
   "display_name": "py3p6",
   "language": "python",
   "name": "py3p6"
  },
  "language_info": {
   "codemirror_mode": {
    "name": "ipython",
    "version": 3
   },
   "file_extension": ".py",
   "mimetype": "text/x-python",
   "name": "python",
   "nbconvert_exporter": "python",
   "pygments_lexer": "ipython3",
   "version": "3.6.9"
  }
 },
 "nbformat": 4,
 "nbformat_minor": 2
}
